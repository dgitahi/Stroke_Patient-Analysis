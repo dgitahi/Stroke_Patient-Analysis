{
 "cells": [
  {
   "cell_type": "markdown",
   "metadata": {},
   "source": [
    "Data:\n",
    "\n",
    "Contains information of patients who either had stoke or not.\n",
    "\n",
    "The aim of the analysis is to develop a model that is able to predict patients who will get stroke\n",
    "\n",
    "The Data set contains 10 features describing the patient historical information and any underlying conditions.\n",
    "\n",
    "Using this data will attempt to answer the below questions:\n",
    "\n",
    "1. Does smoking increase/decrease the probability of getting stroke?\n",
    "2. Does a patient with other underlying conditions more susceptible to stroke?\n",
    "3. What are the top three predictors of stroke?"
   ]
  },
  {
   "cell_type": "code",
   "execution_count": 97,
   "metadata": {},
   "outputs": [],
   "source": [
    "import pandas as pd\n",
    "import numpy as np\n",
    "import matplotlib.pyplot as plt\n",
    "import seaborn as sns"
   ]
  },
  {
   "cell_type": "code",
   "execution_count": 413,
   "metadata": {},
   "outputs": [
    {
     "data": {
      "text/html": [
       "<div>\n",
       "<style scoped>\n",
       "    .dataframe tbody tr th:only-of-type {\n",
       "        vertical-align: middle;\n",
       "    }\n",
       "\n",
       "    .dataframe tbody tr th {\n",
       "        vertical-align: top;\n",
       "    }\n",
       "\n",
       "    .dataframe thead th {\n",
       "        text-align: right;\n",
       "    }\n",
       "</style>\n",
       "<table border=\"1\" class=\"dataframe\">\n",
       "  <thead>\n",
       "    <tr style=\"text-align: right;\">\n",
       "      <th></th>\n",
       "      <th>id</th>\n",
       "      <th>gender</th>\n",
       "      <th>age</th>\n",
       "      <th>hypertension</th>\n",
       "      <th>heart_disease</th>\n",
       "      <th>ever_married</th>\n",
       "      <th>work_type</th>\n",
       "      <th>Residence_type</th>\n",
       "      <th>avg_glucose_level</th>\n",
       "      <th>bmi</th>\n",
       "      <th>smoking_status</th>\n",
       "      <th>stroke</th>\n",
       "    </tr>\n",
       "  </thead>\n",
       "  <tbody>\n",
       "    <tr>\n",
       "      <th>0</th>\n",
       "      <td>9046</td>\n",
       "      <td>Male</td>\n",
       "      <td>67.0</td>\n",
       "      <td>0</td>\n",
       "      <td>1</td>\n",
       "      <td>Yes</td>\n",
       "      <td>Private</td>\n",
       "      <td>Urban</td>\n",
       "      <td>228.69</td>\n",
       "      <td>36.6</td>\n",
       "      <td>formerly smoked</td>\n",
       "      <td>1</td>\n",
       "    </tr>\n",
       "    <tr>\n",
       "      <th>1</th>\n",
       "      <td>51676</td>\n",
       "      <td>Female</td>\n",
       "      <td>61.0</td>\n",
       "      <td>0</td>\n",
       "      <td>0</td>\n",
       "      <td>Yes</td>\n",
       "      <td>Self-employed</td>\n",
       "      <td>Rural</td>\n",
       "      <td>202.21</td>\n",
       "      <td>NaN</td>\n",
       "      <td>never smoked</td>\n",
       "      <td>1</td>\n",
       "    </tr>\n",
       "    <tr>\n",
       "      <th>2</th>\n",
       "      <td>31112</td>\n",
       "      <td>Male</td>\n",
       "      <td>80.0</td>\n",
       "      <td>0</td>\n",
       "      <td>1</td>\n",
       "      <td>Yes</td>\n",
       "      <td>Private</td>\n",
       "      <td>Rural</td>\n",
       "      <td>105.92</td>\n",
       "      <td>32.5</td>\n",
       "      <td>never smoked</td>\n",
       "      <td>1</td>\n",
       "    </tr>\n",
       "    <tr>\n",
       "      <th>3</th>\n",
       "      <td>60182</td>\n",
       "      <td>Female</td>\n",
       "      <td>49.0</td>\n",
       "      <td>0</td>\n",
       "      <td>0</td>\n",
       "      <td>Yes</td>\n",
       "      <td>Private</td>\n",
       "      <td>Urban</td>\n",
       "      <td>171.23</td>\n",
       "      <td>34.4</td>\n",
       "      <td>smokes</td>\n",
       "      <td>1</td>\n",
       "    </tr>\n",
       "    <tr>\n",
       "      <th>4</th>\n",
       "      <td>1665</td>\n",
       "      <td>Female</td>\n",
       "      <td>79.0</td>\n",
       "      <td>1</td>\n",
       "      <td>0</td>\n",
       "      <td>Yes</td>\n",
       "      <td>Self-employed</td>\n",
       "      <td>Rural</td>\n",
       "      <td>174.12</td>\n",
       "      <td>24.0</td>\n",
       "      <td>never smoked</td>\n",
       "      <td>1</td>\n",
       "    </tr>\n",
       "  </tbody>\n",
       "</table>\n",
       "</div>"
      ],
      "text/plain": [
       "      id  gender   age  hypertension  heart_disease ever_married  \\\n",
       "0   9046    Male  67.0             0              1          Yes   \n",
       "1  51676  Female  61.0             0              0          Yes   \n",
       "2  31112    Male  80.0             0              1          Yes   \n",
       "3  60182  Female  49.0             0              0          Yes   \n",
       "4   1665  Female  79.0             1              0          Yes   \n",
       "\n",
       "       work_type Residence_type  avg_glucose_level   bmi   smoking_status  \\\n",
       "0        Private          Urban             228.69  36.6  formerly smoked   \n",
       "1  Self-employed          Rural             202.21   NaN     never smoked   \n",
       "2        Private          Rural             105.92  32.5     never smoked   \n",
       "3        Private          Urban             171.23  34.4           smokes   \n",
       "4  Self-employed          Rural             174.12  24.0     never smoked   \n",
       "\n",
       "   stroke  \n",
       "0       1  \n",
       "1       1  \n",
       "2       1  \n",
       "3       1  \n",
       "4       1  "
      ]
     },
     "execution_count": 413,
     "metadata": {},
     "output_type": "execute_result"
    }
   ],
   "source": [
    "#import the data and view\n",
    "df = pd.read_csv('healthcare-dataset-stroke-data.csv')\n",
    "df.head()"
   ]
  },
  {
   "cell_type": "code",
   "execution_count": 100,
   "metadata": {},
   "outputs": [
    {
     "data": {
      "text/plain": [
       "(5110, 12)"
      ]
     },
     "execution_count": 100,
     "metadata": {},
     "output_type": "execute_result"
    }
   ],
   "source": [
    "df.shape"
   ]
  },
  {
   "cell_type": "code",
   "execution_count": 101,
   "metadata": {},
   "outputs": [
    {
     "name": "stdout",
     "output_type": "stream",
     "text": [
      "<class 'pandas.core.frame.DataFrame'>\n",
      "RangeIndex: 5110 entries, 0 to 5109\n",
      "Data columns (total 12 columns):\n",
      " #   Column             Non-Null Count  Dtype  \n",
      "---  ------             --------------  -----  \n",
      " 0   id                 5110 non-null   int64  \n",
      " 1   gender             5110 non-null   object \n",
      " 2   age                5110 non-null   float64\n",
      " 3   hypertension       5110 non-null   int64  \n",
      " 4   heart_disease      5110 non-null   int64  \n",
      " 5   ever_married       5110 non-null   object \n",
      " 6   work_type          5110 non-null   object \n",
      " 7   Residence_type     5110 non-null   object \n",
      " 8   avg_glucose_level  5110 non-null   float64\n",
      " 9   bmi                4909 non-null   float64\n",
      " 10  smoking_status     5110 non-null   object \n",
      " 11  stroke             5110 non-null   int64  \n",
      "dtypes: float64(3), int64(4), object(5)\n",
      "memory usage: 479.2+ KB\n"
     ]
    }
   ],
   "source": [
    "df.info()"
   ]
  },
  {
   "cell_type": "markdown",
   "metadata": {},
   "source": [
    "#### Checking for Missing values."
   ]
  },
  {
   "cell_type": "code",
   "execution_count": 102,
   "metadata": {},
   "outputs": [
    {
     "data": {
      "text/plain": [
       "id                     0\n",
       "gender                 0\n",
       "age                    0\n",
       "hypertension           0\n",
       "heart_disease          0\n",
       "ever_married           0\n",
       "work_type              0\n",
       "Residence_type         0\n",
       "avg_glucose_level      0\n",
       "bmi                  201\n",
       "smoking_status         0\n",
       "stroke                 0\n",
       "dtype: int64"
      ]
     },
     "execution_count": 102,
     "metadata": {},
     "output_type": "execute_result"
    }
   ],
   "source": [
    "df.isnull().sum()"
   ]
  },
  {
   "cell_type": "code",
   "execution_count": 103,
   "metadata": {},
   "outputs": [
    {
     "name": "stdout",
     "output_type": "stream",
     "text": [
      "percentage missing 3.9334637964774952\n"
     ]
    }
   ],
   "source": [
    "print(f'percentage missing', df['bmi'].isnull().sum()/df.shape[0]*100)"
   ]
  },
  {
   "cell_type": "markdown",
   "metadata": {},
   "source": [
    "Only BMI has 4% missing data. Since BMI is calculated from the patient weight and height. Missing would mean either of the two was missing or both but not zero. We can therefore use mean average to replace the missing"
   ]
  },
  {
   "cell_type": "code",
   "execution_count": 105,
   "metadata": {},
   "outputs": [],
   "source": [
    "###replace the missing values with the mean.\n",
    "\n",
    "df['bmi'].fillna(value = df['bmi'].mean(),inplace=True)"
   ]
  },
  {
   "cell_type": "markdown",
   "metadata": {},
   "source": [
    "### Exploratoly Data Analysis"
   ]
  },
  {
   "cell_type": "markdown",
   "metadata": {},
   "source": [
    "- Bar plot for the numerical variabes\n",
    "- count plot for the catgerical variables\n",
    "- feature exp for checking the probability."
   ]
  },
  {
   "cell_type": "code",
   "execution_count": 106,
   "metadata": {},
   "outputs": [
    {
     "data": {
      "image/png": "[encoded data removed]",
      "text/plain": [
       "<Figure size 432x288 with 1 Axes>"
      ]
     },
     "metadata": {
      "needs_background": "light"
     },
     "output_type": "display_data"
    }
   ],
   "source": [
    "plt.title('Distribution of Target Variable')\n",
    "sns.countplot(x= 'stroke',data=df)\n",
    "plt.show()"
   ]
  },
  {
   "cell_type": "markdown",
   "metadata": {},
   "source": [
    "The data is highly imbalanced."
   ]
  },
  {
   "cell_type": "markdown",
   "metadata": {},
   "source": [
    "#### Numerical Variables analysis"
   ]
  },
  {
   "cell_type": "code",
   "execution_count": 108,
   "metadata": {},
   "outputs": [
    {
     "data": {
      "image/png": "[encoded data removed]",
      "text/plain": [
       "<Figure size 576x360 with 1 Axes>"
      ]
     },
     "metadata": {
      "needs_background": "light"
     },
     "output_type": "display_data"
    },
    {
     "data": {
      "image/png": "[encoded data removed]",
      "text/plain": [
       "<Figure size 576x360 with 1 Axes>"
      ]
     },
     "metadata": {
      "needs_background": "light"
     },
     "output_type": "display_data"
    },
    {
     "data": {
      "image/png": "[encoded data removed]",
      "text/plain": [
       "<Figure size 576x360 with 1 Axes>"
      ]
     },
     "metadata": {
      "needs_background": "light"
     },
     "output_type": "display_data"
    }
   ],
   "source": [
    "for i in ['age','avg_glucose_level','bmi']:\n",
    "    plt.figure(figsize=(8,5))\n",
    "    plt.title(i)\n",
    "    sns.barplot(x= \"stroke\",y= i,data = df,capsize=0.05,ci='sd')\n",
    "    plt.show()"
   ]
  },
  {
   "cell_type": "markdown",
   "metadata": {},
   "source": [
    "Older patients seem to be more suseptible to stroke\n",
    "\n",
    "Patients with stroke have a higher glucose level.\n",
    "\n",
    "Average BMI for both group of patient is similar.\n",
    "\n",
    "\n"
   ]
  },
  {
   "cell_type": "markdown",
   "metadata": {},
   "source": [
    "### Comparison of Patients with other diseases and those without, on their chance of getting a stroke"
   ]
  },
  {
   "cell_type": "markdown",
   "metadata": {},
   "source": [
    "#### Heart Disease patients"
   ]
  },
  {
   "cell_type": "code",
   "execution_count": 109,
   "metadata": {},
   "outputs": [
    {
     "data": {
      "image/png": "[encoded data removed]",
      "text/plain": [
       "<Figure size 864x432 with 1 Axes>"
      ]
     },
     "metadata": {
      "needs_background": "light"
     },
     "output_type": "display_data"
    }
   ],
   "source": [
    "df_heartdisease =pd.DataFrame({'stroke':[1,1,0,0],'disease':[1,0,1,0],\n",
    "                  'per_cntr':[df[df.heart_disease==1].groupby('stroke')['id'].count()[1]/df[df.heart_disease==1].shape[0],\n",
    "                              df[df.heart_disease==0].groupby('stroke')['id'].count()[1]/df[df.heart_disease==0].shape[0],\n",
    "                              df[df.heart_disease==1].groupby('stroke')['id'].count()[0]/df[df.heart_disease==1].shape[0],\n",
    "                              df[df.heart_disease==0].groupby('stroke')['id'].count()[0]/df[df.heart_disease==0].shape[0]]})\n",
    "\n",
    "\n",
    "plt.figure(figsize=(12,6))\n",
    "plt.title('Heart Disease')\n",
    "sns.barplot(x='disease',y='per_cntr',hue ='stroke',data=df_heartdisease)\n",
    "\n",
    "plt.show()"
   ]
  },
  {
   "cell_type": "markdown",
   "metadata": {},
   "source": [
    "The percentage of patients with stroke is relatively higher in the group of patients with heart disease(17%) compared to those without hear disease(3%)"
   ]
  },
  {
   "cell_type": "markdown",
   "metadata": {},
   "source": [
    "#### Hypertension"
   ]
  },
  {
   "cell_type": "code",
   "execution_count": 414,
   "metadata": {},
   "outputs": [
    {
     "data": {
      "image/png": "[encoded data removed]",
      "text/plain": [
       "<Figure size 864x432 with 1 Axes>"
      ]
     },
     "metadata": {
      "needs_background": "light"
     },
     "output_type": "display_data"
    }
   ],
   "source": [
    "df_hypertension =pd.DataFrame({'stroke':[1,1,0,0],'disease':[1,0,1,0],\n",
    "                  'per_cntr':[df[df.hypertension==1].groupby('stroke')['id'].count()[1]/df[df.hypertension==1].shape[0],\n",
    "                              df[df.hypertension==0].groupby('stroke')['id'].count()[1]/df[df.hypertension==0].shape[0],\n",
    "                              df[df.hypertension==1].groupby('stroke')['id'].count()[0]/df[df.hypertension==1].shape[0],\n",
    "                              df[df.hypertension==0].groupby('stroke')['id'].count()[0]/df[df.hypertension==0].shape[0]]})\n",
    "\n",
    "\n",
    "plt.figure(figsize=(12,6))\n",
    "plt.title('Hypertension')\n",
    "sns.barplot(x='disease',y='per_cntr',hue ='stroke',data=df_hypertension)\n",
    "\n",
    "plt.show()"
   ]
  },
  {
   "cell_type": "markdown",
   "metadata": {},
   "source": [
    "The percentage of patients with stroke is relatively higher in the group of patients with hypertension(13.2%) compared to those without hypertension(3%)"
   ]
  },
  {
   "cell_type": "markdown",
   "metadata": {},
   "source": [
    "We can therefore conclude that the patient with ohter diseaseses e.g hypertension and heardisease are more susceptible to getting stroke."
   ]
  },
  {
   "cell_type": "markdown",
   "metadata": {},
   "source": [
    " A patient with either hypertension or heart disease has a higher chance of having stroke than a patient without the disese"
   ]
  },
  {
   "cell_type": "markdown",
   "metadata": {},
   "source": [
    "#### Both Heart Disease and Hypertension "
   ]
  },
  {
   "cell_type": "code",
   "execution_count": 417,
   "metadata": {},
   "outputs": [],
   "source": [
    "both_heart_hypertension = []\n",
    "for i in range(0,len(df)):\n",
    "    if df.hypertension.iloc[i] ==1 & df.heart_disease.iloc[i] ==1:\n",
    "        both_heart_hypertension.append(1)\n",
    "    else:\n",
    "        both_heart_hypertension.append(0)\n",
    "        \n",
    "df['both_heart_hypertension'] = both_heart_hypertension"
   ]
  },
  {
   "cell_type": "code",
   "execution_count": 419,
   "metadata": {},
   "outputs": [
    {
     "data": {
      "image/png": "[encoded data removed]",
      "text/plain": [
       "<Figure size 864x432 with 1 Axes>"
      ]
     },
     "metadata": {
      "needs_background": "light"
     },
     "output_type": "display_data"
    }
   ],
   "source": [
    "df_heart_hypertension =pd.DataFrame({'stroke':[1,1,0,0],'disease':[1,0,1,0],\n",
    "                  'per_cntr':[df[df.both_heart_hypertension==1].groupby('stroke')['id'].count()[1]/df[df.both_heart_hypertension==1].shape[0],\n",
    "                              df[df.both_heart_hypertension==0].groupby('stroke')['id'].count()[1]/df[df.both_heart_hypertension==0].shape[0],\n",
    "                              df[df.both_heart_hypertension==1].groupby('stroke')['id'].count()[0]/df[df.both_heart_hypertension==1].shape[0],\n",
    "                              df[df.both_heart_hypertension==0].groupby('stroke')['id'].count()[0]/df[df.both_heart_hypertension==0].shape[0]]})\n",
    "\n",
    "\n",
    "plt.figure(figsize=(12,6))\n",
    "plt.title('heart_hypertension')\n",
    "sns.barplot(x='disease',y='per_cntr',hue ='stroke',data=df_heart_hypertension)\n",
    "\n",
    "plt.show()"
   ]
  },
  {
   "cell_type": "markdown",
   "metadata": {},
   "source": [
    "The chance increases further,for the patients with both hypertension and heart disease, 20% have got stroke while for those with either the condition or none at all 4% have stroke"
   ]
  },
  {
   "cell_type": "markdown",
   "metadata": {},
   "source": [
    "We could therefore conclude that having either the heartdisease or hypertension increases your chance of getting stroke.For those with both condition their chance of getting stroke is even higher"
   ]
  },
  {
   "cell_type": "markdown",
   "metadata": {},
   "source": [
    "### Does smoking increase the chances of getting stroke"
   ]
  },
  {
   "cell_type": "code",
   "execution_count": 117,
   "metadata": {},
   "outputs": [
    {
     "data": {
      "text/plain": [
       "array(['formerly smoked', 'never smoked', 'smokes', 'Unknown'],\n",
       "      dtype=object)"
      ]
     },
     "execution_count": 117,
     "metadata": {},
     "output_type": "execute_result"
    }
   ],
   "source": [
    "df.smoking_status.unique()"
   ]
  },
  {
   "cell_type": "code",
   "execution_count": 118,
   "metadata": {},
   "outputs": [
    {
     "data": {
      "text/plain": [
       "smoking_status\n",
       "Unknown            1544\n",
       "formerly smoked     885\n",
       "never smoked       1892\n",
       "smokes              789\n",
       "Name: id, dtype: int64"
      ]
     },
     "execution_count": 118,
     "metadata": {},
     "output_type": "execute_result"
    }
   ],
   "source": [
    "df.groupby(by = 'smoking_status')['id'].count()"
   ]
  },
  {
   "cell_type": "markdown",
   "metadata": {},
   "source": [
    "#### Drop those with unknown\n",
    "\n",
    "For the pourpose of this analysis we drop any patient who smoking status is unknown"
   ]
  },
  {
   "cell_type": "code",
   "execution_count": 119,
   "metadata": {},
   "outputs": [],
   "source": [
    "\n",
    "index_names = df[df['smoking_status']=='Unknown'].index\n",
    "df_smokers = df.drop(index_names)"
   ]
  },
  {
   "cell_type": "code",
   "execution_count": 428,
   "metadata": {},
   "outputs": [
    {
     "data": {
      "image/png": "[encoded data removed]",
      "text/plain": [
       "<Figure size 864x432 with 1 Axes>"
      ]
     },
     "metadata": {
      "needs_background": "light"
     },
     "output_type": "display_data"
    }
   ],
   "source": [
    "#combine smoking and ever smoked: All pateints ever smoked and smoking are \n",
    "#treated the same since they are exposed to smoking\n",
    "\n",
    "\n",
    "smoking = []\n",
    "for i in range(0,len(df_smokers)):\n",
    "    if df_smokers['smoking_status'].iloc[i] == 'formerly smoked':\n",
    "        smoking.append(1)\n",
    "    elif df_smokers['smoking_status'].iloc[i] == 'smokes':\n",
    "        smoking.append(1)\n",
    "    else:\n",
    "        smoking.append(0)\n",
    "\n",
    "df_smokers['smoking'] = smoking\n",
    "\n",
    "\n",
    "\n",
    "\n",
    "df_smokers_st =pd.DataFrame({'stroke':[1,1,0,0],'Smoking_Status':[1,0,1,0],\n",
    "                  'per_cntr':[df_smokers[df_smokers.smoking==1].groupby('stroke')['id'].count()[1]/df_smokers[df_smokers.smoking==1].shape[0],\n",
    "                              df_smokers[df_smokers.smoking==0].groupby('stroke')['id'].count()[1]/df_smokers[df_smokers.smoking==0].shape[0],\n",
    "                              df_smokers[df_smokers.smoking==1].groupby('stroke')['id'].count()[0]/df_smokers[df_smokers.smoking==1].shape[0],\n",
    "                              df_smokers[df_smokers.smoking==0].groupby('stroke')['id'].count()[0]/df_smokers[df_smokers.smoking==0].shape[0]]})\n",
    "\n",
    "\n",
    "plt.figure(figsize=(12,6))\n",
    "plt.title('Smokers')\n",
    "sns.barplot(x='Smoking_Status',y='per_cntr',hue ='stroke',data=df_smokers_st)\n",
    "\n",
    "plt.show()\n",
    "          "
   ]
  },
  {
   "cell_type": "markdown",
   "metadata": {},
   "source": [
    "Patients who either were smoking or ever smoking have a higher chance of getting stroke by 2%\n",
    "\n",
    "\n",
    "Smoking is not highly correlated with getting a stroke."
   ]
  },
  {
   "cell_type": "code",
   "execution_count": 427,
   "metadata": {},
   "outputs": [
    {
     "data": {
      "image/png": "[encoded data removed]",
      "text/plain": [
       "<Figure size 864x432 with 1 Axes>"
      ]
     },
     "metadata": {
      "needs_background": "light"
     },
     "output_type": "display_data"
    }
   ],
   "source": [
    "#combine smoking and ever smoked: All pateints ever smoked and smoking are \n",
    "#treated the same since they are exposed to smoking\n",
    "\n",
    "\n",
    "smoking = []\n",
    "for i in range(0,len(df_smokers)):\n",
    "    if df_smokers['smoking_status'].iloc[i] == 'formerly smoked':\n",
    "        smoking.append(0)\n",
    "    elif df_smokers['smoking_status'].iloc[i] == 'smokes':\n",
    "        smoking.append(1)\n",
    "    else:\n",
    "        smoking.append(0)\n",
    "\n",
    "df_smokers['smoking'] = smoking\n",
    "\n",
    "\n",
    "df_smokers_st =pd.DataFrame({'stroke':[1,1,0,0],'Smoking_Status':[1,0,1,0],\n",
    "                  'per_cntr':[df_smokers[df_smokers.smoking==1].groupby('stroke')['id'].count()[1]/df_smokers[df_smokers.smoking==1].shape[0],\n",
    "                              df_smokers[df_smokers.smoking==0].groupby('stroke')['id'].count()[1]/df_smokers[df_smokers.smoking==0].shape[0],\n",
    "                              df_smokers[df_smokers.smoking==1].groupby('stroke')['id'].count()[0]/df_smokers[df_smokers.smoking==1].shape[0],\n",
    "                              df_smokers[df_smokers.smoking==0].groupby('stroke')['id'].count()[0]/df_smokers[df_smokers.smoking==0].shape[0]]})\n",
    "\n",
    "\n",
    "plt.figure(figsize=(12,6))\n",
    "plt.title('Smokers')\n",
    "sns.barplot(x='Smoking_Status',y='per_cntr',hue ='stroke',data=df_smokers_st)\n",
    "\n",
    "plt.show()"
   ]
  },
  {
   "cell_type": "markdown",
   "metadata": {},
   "source": [
    "### Categorical Variables\n",
    "\n",
    "Convert the categgorical variables into dummies and drop the original column. Keep k-1 columns.\n",
    "\n",
    "\n"
   ]
  },
  {
   "cell_type": "code",
   "execution_count": 125,
   "metadata": {},
   "outputs": [],
   "source": [
    "def create_dummies(df):\n",
    "    \"\"\"create dummy columns for the categorical \n",
    "        feature. \n",
    "        returns a df that has all the numeric features and the dummy features\"\"\"\n",
    "    df_cat_features = df.select_dtypes(include = ['object'])\n",
    "    df_numeric_feature = df.select_dtypes(include=['float64','int64'])\n",
    "    cat_feature_list = df_cat_features.columns.values\n",
    "    df_cat_dummies = pd.get_dummies(df_cat_features,prefix=cat_feature_list,prefix_sep='_',columns=cat_feature_list,drop_first=True)\n",
    "    df_new = df_numeric_feature.join(df_cat_dummies)\n",
    "    #print(df_new)\n",
    "    return df_new\n",
    "df_new = create_dummies(df)"
   ]
  },
  {
   "cell_type": "markdown",
   "metadata": {},
   "source": [
    "### Train and Test Model"
   ]
  },
  {
   "cell_type": "code",
   "execution_count": 297,
   "metadata": {},
   "outputs": [],
   "source": [
    "\n",
    "import matplotlib.pyplot as plt\n",
    "from sklearn import model_selection\n",
    "from sklearn.linear_model import LogisticRegression\n",
    "from sklearn.ensemble import RandomForestClassifier\n",
    "from sklearn.ensemble import AdaBoostClassifier\n",
    "\n",
    "from sklearn.model_selection import train_test_split\n",
    "from sklearn.neighbors import KNeighborsClassifier\n",
    "import warnings\n",
    "warnings.filterwarnings(\"ignore\")"
   ]
  },
  {
   "cell_type": "code",
   "execution_count": 298,
   "metadata": {},
   "outputs": [],
   "source": [
    "X= df_new.drop(columns=['stroke','id'],axis= 1)\n",
    "y= df_new['stroke']\n",
    "X_train,X_test,y_train,y_test = train_test_split(X,y,test_size = 0.3,random_state = 42)\n"
   ]
  },
  {
   "cell_type": "markdown",
   "metadata": {},
   "source": [
    "#### Train and Test several Models and Pick the Best"
   ]
  },
  {
   "cell_type": "code",
   "execution_count": 308,
   "metadata": {},
   "outputs": [],
   "source": [
    "models = {'RF': RandomForestClassifier(),'LR': LogisticRegression(), 'KN':KNeighborsClassifier(),\n",
    "         'AD':AdaBoostClassifier()}"
   ]
  },
  {
   "cell_type": "code",
   "execution_count": 318,
   "metadata": {},
   "outputs": [
    {
     "name": "stdout",
     "output_type": "stream",
     "text": [
      " model: RF \n",
      "              precision    recall  f1-score   support\n",
      "\n",
      "           0       0.94      1.00      0.97      1444\n",
      "           1       0.00      0.00      0.00        89\n",
      "\n",
      "   micro avg       0.94      0.94      0.94      1533\n",
      "   macro avg       0.47      0.50      0.48      1533\n",
      "weighted avg       0.89      0.94      0.91      1533\n",
      "\n",
      "predictions     0  1   All\n",
      "y_true                    \n",
      "0            1442  2  1444\n",
      "1              89  0    89\n",
      "All          1531  2  1533\n",
      " model accuracy =0.9406392694063926 \n",
      " model: LR \n",
      "              precision    recall  f1-score   support\n",
      "\n",
      "           0       0.94      1.00      0.97      1444\n",
      "           1       0.00      0.00      0.00        89\n",
      "\n",
      "   micro avg       0.94      0.94      0.94      1533\n",
      "   macro avg       0.47      0.50      0.49      1533\n",
      "weighted avg       0.89      0.94      0.91      1533\n",
      "\n",
      "predictions     0   All\n",
      "y_true                 \n",
      "0            1444  1444\n",
      "1              89    89\n",
      "All          1533  1533\n",
      " model accuracy =0.9419439008480104 \n",
      " model: KN \n",
      "              precision    recall  f1-score   support\n",
      "\n",
      "           0       0.94      0.99      0.97      1444\n",
      "           1       0.14      0.02      0.04        89\n",
      "\n",
      "   micro avg       0.94      0.94      0.94      1533\n",
      "   macro avg       0.54      0.51      0.50      1533\n",
      "weighted avg       0.90      0.94      0.91      1533\n",
      "\n",
      "predictions     0   1   All\n",
      "y_true                     \n",
      "0            1432  12  1444\n",
      "1              87   2    89\n",
      "All          1519  14  1533\n",
      " model accuracy =0.9354207436399217 \n",
      " model: AD \n",
      "              precision    recall  f1-score   support\n",
      "\n",
      "           0       0.94      0.99      0.97      1444\n",
      "           1       0.11      0.01      0.02        89\n",
      "\n",
      "   micro avg       0.94      0.94      0.94      1533\n",
      "   macro avg       0.53      0.50      0.49      1533\n",
      "weighted avg       0.89      0.94      0.91      1533\n",
      "\n",
      "predictions     0  1   All\n",
      "y_true                    \n",
      "0            1436  8  1444\n",
      "1              88  1    89\n",
      "All          1524  9  1533\n",
      " model accuracy =0.9373776908023483 \n"
     ]
    }
   ],
   "source": [
    "\n",
    "for i in models.keys():\n",
    "    model = models[i]\n",
    "    model.fit(X_train,y_train)\n",
    "    pred = model.predict(X_test)\n",
    "    df_pred = pd.DataFrame({'predictions':pred,'y_true':y_test})\n",
    "    conf_opt = classification_report(df_pred.y_true,df_pred.predictions)\n",
    "    cross_tab = pd.crosstab(df_pred.y_true,df_pred.predictions,margins=True)\n",
    "    accuracy = accuracy_score(df_pred.y_true,df_pred.predictions)\n",
    "  \n",
    "    print(f\" model: {i} \")\n",
    "    \n",
    "    print(conf_opt)\n",
    "    print(cross_tab)\n",
    "    print(f\" model accuracy ={accuracy} \")"
   ]
  },
  {
   "cell_type": "markdown",
   "metadata": {},
   "source": [
    "None of the model is performing well, we probably need to deal with the issue of the imbalanced data"
   ]
  },
  {
   "cell_type": "markdown",
   "metadata": {},
   "source": [
    "### Treating the imbalance in the dataset\n",
    "We try out several methods and find out which works the best:\n",
    "* Oversampling\n",
    "* Undersampling\n",
    "* SMOTE"
   ]
  },
  {
   "cell_type": "markdown",
   "metadata": {},
   "source": [
    "#### OverSampling"
   ]
  },
  {
   "cell_type": "code",
   "execution_count": 329,
   "metadata": {},
   "outputs": [
    {
     "name": "stdout",
     "output_type": "stream",
     "text": [
      "Original dataset shape Counter({0: 3417, 1: 160})\n",
      "Resampled dataset shape Counter({0: 3417, 1: 3417})\n"
     ]
    }
   ],
   "source": [
    "\n",
    "\n",
    "from collections import Counter\n",
    "from imblearn.over_sampling import RandomOverSampler\n",
    "\n",
    "print('Original dataset shape %s' % Counter(y_train))\n",
    "\n",
    "ros = RandomOverSampler(random_state=42)\n",
    "X_res, y_res = ros.fit_resample(X_train, y_train)\n",
    "print('Resampled dataset shape %s' % Counter(y_res))\n"
   ]
  },
  {
   "cell_type": "code",
   "execution_count": 333,
   "metadata": {},
   "outputs": [
    {
     "name": "stdout",
     "output_type": "stream",
     "text": [
      " model: RF \n",
      "              precision    recall  f1-score   support\n",
      "\n",
      "           0       0.94      0.99      0.97      1444\n",
      "           1       0.21      0.03      0.06        89\n",
      "\n",
      "   micro avg       0.94      0.94      0.94      1533\n",
      "   macro avg       0.58      0.51      0.51      1533\n",
      "weighted avg       0.90      0.94      0.91      1533\n",
      "\n",
      "predictions     0   1   All\n",
      "y_true                     \n",
      "0            1433  11  1444\n",
      "1              86   3    89\n",
      "All          1519  14  1533\n",
      " model accuracy =0.9367253750815394 \n",
      " model: LR \n",
      "              precision    recall  f1-score   support\n",
      "\n",
      "           0       0.98      0.75      0.85      1444\n",
      "           1       0.15      0.73      0.25        89\n",
      "\n",
      "   micro avg       0.75      0.75      0.75      1533\n",
      "   macro avg       0.57      0.74      0.55      1533\n",
      "weighted avg       0.93      0.75      0.82      1533\n",
      "\n",
      "predictions     0    1   All\n",
      "y_true                      \n",
      "0            1086  358  1444\n",
      "1              24   65    89\n",
      "All          1110  423  1533\n",
      " model accuracy =0.7508153946510111 \n",
      " model: KN \n",
      "              precision    recall  f1-score   support\n",
      "\n",
      "           0       0.96      0.89      0.92      1444\n",
      "           1       0.16      0.36      0.23        89\n",
      "\n",
      "   micro avg       0.86      0.86      0.86      1533\n",
      "   macro avg       0.56      0.62      0.57      1533\n",
      "weighted avg       0.91      0.86      0.88      1533\n",
      "\n",
      "predictions     0    1   All\n",
      "y_true                      \n",
      "0            1281  163  1444\n",
      "1              57   32    89\n",
      "All          1338  195  1533\n",
      " model accuracy =0.8564905414220483 \n",
      " model: AD \n",
      "              precision    recall  f1-score   support\n",
      "\n",
      "           0       0.98      0.75      0.85      1444\n",
      "           1       0.15      0.72      0.25        89\n",
      "\n",
      "   micro avg       0.75      0.75      0.75      1533\n",
      "   macro avg       0.56      0.74      0.55      1533\n",
      "weighted avg       0.93      0.75      0.81      1533\n",
      "\n",
      "predictions     0    1   All\n",
      "y_true                      \n",
      "0            1085  359  1444\n",
      "1              25   64    89\n",
      "All          1110  423  1533\n",
      " model accuracy =0.7495107632093934 \n"
     ]
    }
   ],
   "source": [
    "models = {'RF': RandomForestClassifier(),'LR': LogisticRegression(), 'KN':KNeighborsClassifier(),\n",
    "         'AD':AdaBoostClassifier()}\n",
    "for i in models.keys():\n",
    "    model = models[i]\n",
    "    model.fit(X_res,y_res)\n",
    "    pred = model.predict(X_test)\n",
    "    df_pred = pd.DataFrame({'predictions':pred,'y_true':y_test})\n",
    "    conf_opt = classification_report(df_pred.y_true,df_pred.predictions)\n",
    "    cross_tab = pd.crosstab(df_pred.y_true,df_pred.predictions,margins=True)\n",
    "    accuracy = accuracy_score(df_pred.y_true,df_pred.predictions)\n",
    "  \n",
    "    print(f\" model: {i} \")\n",
    "    \n",
    "    print(conf_opt)\n",
    "    print(cross_tab)\n",
    "    print(f\" model accuracy ={accuracy} \")"
   ]
  },
  {
   "cell_type": "markdown",
   "metadata": {},
   "source": [
    "#### SMOTE"
   ]
  },
  {
   "cell_type": "code",
   "execution_count": 344,
   "metadata": {},
   "outputs": [
    {
     "name": "stdout",
     "output_type": "stream",
     "text": [
      "Original dataset shape Counter({0: 3417, 1: 160})\n",
      "Resample dataset shape Counter({0: 3417, 1: 3417})\n"
     ]
    }
   ],
   "source": [
    "# import library\n",
    "from imblearn.over_sampling import SMOTE\n",
    "\n",
    "smote = SMOTE()\n",
    "\n",
    "# fit predictor and target variable\n",
    "X_smote, y_smote = smote.fit_resample(X_train, y_train)\n",
    "\n",
    "print('Original dataset shape', Counter(y_train))\n",
    "print('Resample dataset shape', Counter(y_smote))"
   ]
  },
  {
   "cell_type": "code",
   "execution_count": 345,
   "metadata": {},
   "outputs": [
    {
     "name": "stdout",
     "output_type": "stream",
     "text": [
      " model: RF \n",
      "              precision    recall  f1-score   support\n",
      "\n",
      "           0       0.94      0.99      0.97      1444\n",
      "           1       0.33      0.06      0.10        89\n",
      "\n",
      "   micro avg       0.94      0.94      0.94      1533\n",
      "   macro avg       0.64      0.52      0.53      1533\n",
      "weighted avg       0.91      0.94      0.92      1533\n",
      "\n",
      "predictions     0   1   All\n",
      "y_true                     \n",
      "0            1434  10  1444\n",
      "1              84   5    89\n",
      "All          1518  15  1533\n",
      " model accuracy =0.9386823222439661 \n",
      " model: LR \n",
      "              precision    recall  f1-score   support\n",
      "\n",
      "           0       0.98      0.75      0.85      1444\n",
      "           1       0.15      0.72      0.25        89\n",
      "\n",
      "   micro avg       0.75      0.75      0.75      1533\n",
      "   macro avg       0.56      0.74      0.55      1533\n",
      "weighted avg       0.93      0.75      0.82      1533\n",
      "\n",
      "predictions     0    1   All\n",
      "y_true                      \n",
      "0            1086  358  1444\n",
      "1              25   64    89\n",
      "All          1111  422  1533\n",
      " model accuracy =0.7501630789302022 \n",
      " model: KN \n",
      "              precision    recall  f1-score   support\n",
      "\n",
      "           0       0.97      0.83      0.89      1444\n",
      "           1       0.16      0.54      0.25        89\n",
      "\n",
      "   micro avg       0.81      0.81      0.81      1533\n",
      "   macro avg       0.56      0.68      0.57      1533\n",
      "weighted avg       0.92      0.81      0.85      1533\n",
      "\n",
      "predictions     0    1   All\n",
      "y_true                      \n",
      "0            1192  252  1444\n",
      "1              41   48    89\n",
      "All          1233  300  1533\n",
      " model accuracy =0.8088714938030006 \n",
      " model: AD \n",
      "              precision    recall  f1-score   support\n",
      "\n",
      "           0       0.94      0.99      0.96      1444\n",
      "           1       0.19      0.06      0.09        89\n",
      "\n",
      "   micro avg       0.93      0.93      0.93      1533\n",
      "   macro avg       0.57      0.52      0.53      1533\n",
      "weighted avg       0.90      0.93      0.91      1533\n",
      "\n",
      "predictions     0   1   All\n",
      "y_true                     \n",
      "0            1423  21  1444\n",
      "1              84   5    89\n",
      "All          1507  26  1533\n",
      " model accuracy =0.9315068493150684 \n"
     ]
    }
   ],
   "source": [
    "models = {'RF': RandomForestClassifier(),'LR': LogisticRegression(), 'KN':KNeighborsClassifier(),\n",
    "         'AD':AdaBoostClassifier()}\n",
    "for i in models.keys():\n",
    "    model = models[i]\n",
    "    model.fit(X_smote,y_smote)\n",
    "    pred = model.predict(X_test)\n",
    "    df_pred = pd.DataFrame({'predictions':pred,'y_true':y_test})\n",
    "    conf_opt = classification_report(df_pred.y_true,df_pred.predictions)\n",
    "    cross_tab = pd.crosstab(df_pred.y_true,df_pred.predictions,margins=True)\n",
    "    accuracy = accuracy_score(df_pred.y_true,df_pred.predictions)\n",
    "  \n",
    "    print(f\" model: {i} \")\n",
    "    \n",
    "    print(conf_opt)\n",
    "    print(cross_tab)\n",
    "    print(f\" model accuracy ={accuracy} \")"
   ]
  },
  {
   "cell_type": "markdown",
   "metadata": {},
   "source": [
    "Oversampling seem to perform better especially for the ADABoost Model. \n",
    "\n",
    "Will Use oversampling Technique to treat for the inbalance in the Data.\n",
    "\n",
    "\n",
    "To increase the model performance we need to do feature enggeneering."
   ]
  },
  {
   "cell_type": "markdown",
   "metadata": {},
   "source": [
    "#### Feature Engeneering"
   ]
  },
  {
   "cell_type": "code",
   "execution_count": 346,
   "metadata": {},
   "outputs": [
    {
     "data": {
      "text/html": [
       "<div>\n",
       "<style scoped>\n",
       "    .dataframe tbody tr th:only-of-type {\n",
       "        vertical-align: middle;\n",
       "    }\n",
       "\n",
       "    .dataframe tbody tr th {\n",
       "        vertical-align: top;\n",
       "    }\n",
       "\n",
       "    .dataframe thead th {\n",
       "        text-align: right;\n",
       "    }\n",
       "</style>\n",
       "<table border=\"1\" class=\"dataframe\">\n",
       "  <thead>\n",
       "    <tr style=\"text-align: right;\">\n",
       "      <th></th>\n",
       "      <th>id</th>\n",
       "      <th>age</th>\n",
       "      <th>hypertension</th>\n",
       "      <th>heart_disease</th>\n",
       "      <th>avg_glucose_level</th>\n",
       "      <th>bmi</th>\n",
       "      <th>stroke</th>\n",
       "      <th>both_heart_hypertension</th>\n",
       "      <th>gender_Male</th>\n",
       "      <th>gender_Other</th>\n",
       "      <th>ever_married_Yes</th>\n",
       "      <th>work_type_Never_worked</th>\n",
       "      <th>work_type_Private</th>\n",
       "      <th>work_type_Self-employed</th>\n",
       "      <th>work_type_children</th>\n",
       "      <th>Residence_type_Urban</th>\n",
       "      <th>smoking_status_formerly smoked</th>\n",
       "      <th>smoking_status_never smoked</th>\n",
       "      <th>smoking_status_smokes</th>\n",
       "    </tr>\n",
       "  </thead>\n",
       "  <tbody>\n",
       "    <tr>\n",
       "      <th>0</th>\n",
       "      <td>9046</td>\n",
       "      <td>67.0</td>\n",
       "      <td>0</td>\n",
       "      <td>1</td>\n",
       "      <td>228.69</td>\n",
       "      <td>36.600000</td>\n",
       "      <td>1</td>\n",
       "      <td>0</td>\n",
       "      <td>1</td>\n",
       "      <td>0</td>\n",
       "      <td>1</td>\n",
       "      <td>0</td>\n",
       "      <td>1</td>\n",
       "      <td>0</td>\n",
       "      <td>0</td>\n",
       "      <td>1</td>\n",
       "      <td>1</td>\n",
       "      <td>0</td>\n",
       "      <td>0</td>\n",
       "    </tr>\n",
       "    <tr>\n",
       "      <th>1</th>\n",
       "      <td>51676</td>\n",
       "      <td>61.0</td>\n",
       "      <td>0</td>\n",
       "      <td>0</td>\n",
       "      <td>202.21</td>\n",
       "      <td>28.893237</td>\n",
       "      <td>1</td>\n",
       "      <td>0</td>\n",
       "      <td>0</td>\n",
       "      <td>0</td>\n",
       "      <td>1</td>\n",
       "      <td>0</td>\n",
       "      <td>0</td>\n",
       "      <td>1</td>\n",
       "      <td>0</td>\n",
       "      <td>0</td>\n",
       "      <td>0</td>\n",
       "      <td>1</td>\n",
       "      <td>0</td>\n",
       "    </tr>\n",
       "    <tr>\n",
       "      <th>2</th>\n",
       "      <td>31112</td>\n",
       "      <td>80.0</td>\n",
       "      <td>0</td>\n",
       "      <td>1</td>\n",
       "      <td>105.92</td>\n",
       "      <td>32.500000</td>\n",
       "      <td>1</td>\n",
       "      <td>0</td>\n",
       "      <td>1</td>\n",
       "      <td>0</td>\n",
       "      <td>1</td>\n",
       "      <td>0</td>\n",
       "      <td>1</td>\n",
       "      <td>0</td>\n",
       "      <td>0</td>\n",
       "      <td>0</td>\n",
       "      <td>0</td>\n",
       "      <td>1</td>\n",
       "      <td>0</td>\n",
       "    </tr>\n",
       "    <tr>\n",
       "      <th>3</th>\n",
       "      <td>60182</td>\n",
       "      <td>49.0</td>\n",
       "      <td>0</td>\n",
       "      <td>0</td>\n",
       "      <td>171.23</td>\n",
       "      <td>34.400000</td>\n",
       "      <td>1</td>\n",
       "      <td>0</td>\n",
       "      <td>0</td>\n",
       "      <td>0</td>\n",
       "      <td>1</td>\n",
       "      <td>0</td>\n",
       "      <td>1</td>\n",
       "      <td>0</td>\n",
       "      <td>0</td>\n",
       "      <td>1</td>\n",
       "      <td>0</td>\n",
       "      <td>0</td>\n",
       "      <td>1</td>\n",
       "    </tr>\n",
       "    <tr>\n",
       "      <th>4</th>\n",
       "      <td>1665</td>\n",
       "      <td>79.0</td>\n",
       "      <td>1</td>\n",
       "      <td>0</td>\n",
       "      <td>174.12</td>\n",
       "      <td>24.000000</td>\n",
       "      <td>1</td>\n",
       "      <td>0</td>\n",
       "      <td>0</td>\n",
       "      <td>0</td>\n",
       "      <td>1</td>\n",
       "      <td>0</td>\n",
       "      <td>0</td>\n",
       "      <td>1</td>\n",
       "      <td>0</td>\n",
       "      <td>0</td>\n",
       "      <td>0</td>\n",
       "      <td>1</td>\n",
       "      <td>0</td>\n",
       "    </tr>\n",
       "  </tbody>\n",
       "</table>\n",
       "</div>"
      ],
      "text/plain": [
       "      id   age  hypertension  heart_disease  avg_glucose_level        bmi  \\\n",
       "0   9046  67.0             0              1             228.69  36.600000   \n",
       "1  51676  61.0             0              0             202.21  28.893237   \n",
       "2  31112  80.0             0              1             105.92  32.500000   \n",
       "3  60182  49.0             0              0             171.23  34.400000   \n",
       "4   1665  79.0             1              0             174.12  24.000000   \n",
       "\n",
       "   stroke  both_heart_hypertension  gender_Male  gender_Other  \\\n",
       "0       1                        0            1             0   \n",
       "1       1                        0            0             0   \n",
       "2       1                        0            1             0   \n",
       "3       1                        0            0             0   \n",
       "4       1                        0            0             0   \n",
       "\n",
       "   ever_married_Yes  work_type_Never_worked  work_type_Private  \\\n",
       "0                 1                       0                  1   \n",
       "1                 1                       0                  0   \n",
       "2                 1                       0                  1   \n",
       "3                 1                       0                  1   \n",
       "4                 1                       0                  0   \n",
       "\n",
       "   work_type_Self-employed  work_type_children  Residence_type_Urban  \\\n",
       "0                        0                   0                     1   \n",
       "1                        1                   0                     0   \n",
       "2                        0                   0                     0   \n",
       "3                        0                   0                     1   \n",
       "4                        1                   0                     0   \n",
       "\n",
       "   smoking_status_formerly smoked  smoking_status_never smoked  \\\n",
       "0                               1                            0   \n",
       "1                               0                            1   \n",
       "2                               0                            1   \n",
       "3                               0                            0   \n",
       "4                               0                            1   \n",
       "\n",
       "   smoking_status_smokes  \n",
       "0                      0  \n",
       "1                      0  \n",
       "2                      0  \n",
       "3                      1  \n",
       "4                      0  "
      ]
     },
     "execution_count": 346,
     "metadata": {},
     "output_type": "execute_result"
    }
   ],
   "source": [
    "df_new.head()"
   ]
  },
  {
   "cell_type": "code",
   "execution_count": null,
   "metadata": {},
   "outputs": [],
   "source": [
    "### combine heart and hypertension\n",
    "\n",
    "both_heart_hypertension = []\n",
    "for i in range(0,len(df)):\n",
    "    if df.hypertension.iloc[i] ==1 & df.heart_disease.iloc[i] ==1:\n",
    "        both_heart_hypertension.append(1)\n",
    "    else:\n",
    "        both_heart_hypertension.append(0)\n",
    "        \n",
    "df['both_heart_hypertension'] = both_heart_hypertension"
   ]
  },
  {
   "cell_type": "code",
   "execution_count": 352,
   "metadata": {},
   "outputs": [],
   "source": [
    "#combine smoking and ever smoked\n",
    "\n",
    "smoking = []\n",
    "for i in range(0,len(df)):\n",
    "    if df['smoking_status'].iloc[i] == 'formerly smoked':\n",
    "        smoking.append('1')\n",
    "    elif df['smoking_status'].iloc[i] == 'smokes':\n",
    "        smoking.append('1')\n",
    "        \n",
    "    elif df['smoking_status'].iloc[i] == 'Unknown':\n",
    "        smoking.append('')\n",
    "    else:\n",
    "        smoking.append('0')\n",
    "\n",
    "df['ever_smoked'] = smoking\n",
    "\n",
    "    "
   ]
  },
  {
   "cell_type": "code",
   "execution_count": 351,
   "metadata": {},
   "outputs": [],
   "source": [
    "### calculate Ratios\n",
    "#Age to BMI\n",
    "df['age_bmi'] = df['age']/df['bmi']\n",
    "df['age_avg_glucose'] = df['age']/df['avg_glucose_level']\n",
    "df['glucose_bmi'] = df['avg_glucose_level']/df['bmi']\n"
   ]
  },
  {
   "cell_type": "markdown",
   "metadata": {},
   "source": [
    "#### Test the Model with the New Features"
   ]
  },
  {
   "cell_type": "code",
   "execution_count": 355,
   "metadata": {},
   "outputs": [],
   "source": [
    "def create_dummies(df):\n",
    "    \"\"\"create dummy columns for the categorical \n",
    "        feature. \n",
    "        returns a df that has all the numeric features and the dummy features\"\"\"\n",
    "    df_cat_features = df.select_dtypes(include = ['object'])\n",
    "    df_numeric_feature = df.select_dtypes(include=['float64','int64'])\n",
    "    cat_feature_list = df_cat_features.columns.values\n",
    "    df_cat_dummies = pd.get_dummies(df_cat_features,prefix=cat_feature_list,prefix_sep='_',columns=cat_feature_list,drop_first=True)\n",
    "    df_new = df_numeric_feature.join(df_cat_dummies)\n",
    "    #print(df_new)\n",
    "    return df_new\n",
    "df_new = create_dummies(df)"
   ]
  },
  {
   "cell_type": "code",
   "execution_count": null,
   "metadata": {},
   "outputs": [],
   "source": [
    "# ratio: age and BMI = age_bmi\n",
    "# ratio age and avg_glucose = age_avg_glucose\n",
    "# combine smoking = ever_smoked\n",
    "# combine diseases= all_dis_present\n",
    "\n"
   ]
  },
  {
   "cell_type": "code",
   "execution_count": 385,
   "metadata": {},
   "outputs": [
    {
     "name": "stdout",
     "output_type": "stream",
     "text": [
      "Original dataset shape Counter({0: 3417, 1: 160})\n",
      "Resampled dataset shape Counter({0: 3417, 1: 3417})\n",
      " model: RF  \n",
      "              precision    recall  f1-score   support\n",
      "\n",
      "           0       0.94      0.99      0.97      1444\n",
      "           1       0.13      0.02      0.04        89\n",
      "\n",
      "   micro avg       0.93      0.93      0.93      1533\n",
      "   macro avg       0.54      0.51      0.50      1533\n",
      "weighted avg       0.90      0.93      0.91      1533\n",
      "\n",
      "predictions     0   1   All\n",
      "y_true                     \n",
      "0            1431  13  1444\n",
      "1              87   2    89\n",
      "All          1518  15  1533\n",
      " model accuracy =0.9347684279191129 \n",
      " model: LR  \n",
      "              precision    recall  f1-score   support\n",
      "\n",
      "           0       0.98      0.76      0.85      1444\n",
      "           1       0.15      0.70      0.25        89\n",
      "\n",
      "   micro avg       0.75      0.75      0.75      1533\n",
      "   macro avg       0.56      0.73      0.55      1533\n",
      "weighted avg       0.93      0.75      0.82      1533\n",
      "\n",
      "predictions     0    1   All\n",
      "y_true                      \n",
      "0            1093  351  1444\n",
      "1              27   62    89\n",
      "All          1120  413  1533\n",
      " model accuracy =0.7534246575342466 \n",
      " model: KN  \n",
      "              precision    recall  f1-score   support\n",
      "\n",
      "           0       0.96      0.89      0.92      1444\n",
      "           1       0.16      0.35      0.22        89\n",
      "\n",
      "   micro avg       0.86      0.86      0.86      1533\n",
      "   macro avg       0.56      0.62      0.57      1533\n",
      "weighted avg       0.91      0.86      0.88      1533\n",
      "\n",
      "predictions     0    1   All\n",
      "y_true                      \n",
      "0            1280  164  1444\n",
      "1              58   31    89\n",
      "All          1338  195  1533\n",
      " model accuracy =0.8551859099804305 \n",
      " model: AD  \n",
      "              precision    recall  f1-score   support\n",
      "\n",
      "           0       0.98      0.77      0.86      1444\n",
      "           1       0.17      0.74      0.27        89\n",
      "\n",
      "   micro avg       0.77      0.77      0.77      1533\n",
      "   macro avg       0.57      0.76      0.57      1533\n",
      "weighted avg       0.93      0.77      0.83      1533\n",
      "\n",
      "predictions     0    1   All\n",
      "y_true                      \n",
      "0            1117  327  1444\n",
      "1              23   66    89\n",
      "All          1140  393  1533\n",
      " model accuracy =0.771689497716895 \n"
     ]
    }
   ],
   "source": [
    "X= df_new.drop(columns=['stroke','id'],axis= 1)\n",
    "y= df_new['stroke']\n",
    "X_train,X_test,y_train,y_test = train_test_split(X,y,test_size = 0.3,random_state = 42)\n",
    "\n",
    "\n",
    "models = {'RF': RandomForestClassifier(),'LR': LogisticRegression(), 'KN':KNeighborsClassifier(),\n",
    "         'AD':AdaBoostClassifier()}\n",
    "\n",
    "\n",
    "from collections import Counter\n",
    "from imblearn.over_sampling import RandomOverSampler\n",
    "\n",
    "print('Original dataset shape %s' % Counter(y_train))\n",
    "\n",
    "ros = RandomOverSampler(random_state=42)\n",
    "X_res, y_res = ros.fit_resample(X_train, y_train)\n",
    "print('Resampled dataset shape %s' % Counter(y_res))\n",
    "\n",
    "\n",
    "\n",
    "\n",
    "model = AdaBoostClassifier()\n",
    "model.fit(X_res,y_res)\n",
    "pred = model.predict(X_test)\n",
    "df_pred = pd.DataFrame({'predictions':pred,'y_true':y_test})\n",
    "\n",
    "conf_opt = classification_report(df_pred.y_true,df_pred.predictions)\n",
    "cross_tab = pd.crosstab(df_pred.y_true,df_pred.predictions,margins=True)\n",
    "\n",
    "accuracy = accuracy_score(df_pred.y_true,df_pred.predictions)\n",
    "\n",
    "\n",
    "models = {'RF': RandomForestClassifier(),'LR': LogisticRegression(), 'KN':KNeighborsClassifier(),\n",
    "         'AD':AdaBoostClassifier()}\n",
    "for i in models.keys():\n",
    "    model = models[i]\n",
    "    model.fit(X_res,y_res)\n",
    "    pred = model.predict(X_test)\n",
    "    df_pred = pd.DataFrame({'predictions':pred,'y_true':y_test})\n",
    "    conf_opt = classification_report(df_pred.y_true,df_pred.predictions)\n",
    "    cross_tab = pd.crosstab(df_pred.y_true,df_pred.predictions,margins=True)\n",
    "    accuracy = accuracy_score(df_pred.y_true,df_pred.predictions)\n",
    "  \n",
    "    print(f\" model: {i}  \") \n",
    "    \n",
    "    print(conf_opt)\n",
    "\n",
    "    print(cross_tab)  \n",
    "\n",
    "    print(f\" model accuracy ={accuracy} \")\n"
   ]
  },
  {
   "cell_type": "markdown",
   "metadata": {},
   "source": [
    "After dealing with the inbalance problem and adding more features we have the Adaboost model perform better tthan the rest.\n",
    "\n",
    "We will continue with the ADABOOST model and optimize the model.\n"
   ]
  },
  {
   "cell_type": "markdown",
   "metadata": {},
   "source": [
    "### Hyperparameter Tuning"
   ]
  },
  {
   "cell_type": "code",
   "execution_count": 392,
   "metadata": {},
   "outputs": [],
   "source": [
    "from sklearn.model_selection import cross_val_score\n",
    "from sklearn.model_selection import RepeatedStratifiedKFold\n",
    "from matplotlib import pyplot\n",
    "from numpy import mean\n",
    "from numpy import std\n",
    "from sklearn.model_selection import GridSearchCV"
   ]
  },
  {
   "cell_type": "markdown",
   "metadata": {},
   "source": [
    "#### Grind Search"
   ]
  },
  {
   "cell_type": "code",
   "execution_count": 394,
   "metadata": {},
   "outputs": [
    {
     "name": "stdout",
     "output_type": "stream",
     "text": [
      "Best: 0.893384 using {'learning_rate': 1.0, 'n_estimators': 500}\n",
      "0.796781 (0.010131) with: {'learning_rate': 0.0001, 'n_estimators': 50}\n",
      "0.796781 (0.010131) with: {'learning_rate': 0.0001, 'n_estimators': 100}\n",
      "0.796781 (0.010131) with: {'learning_rate': 0.0001, 'n_estimators': 200}\n",
      "0.796781 (0.010131) with: {'learning_rate': 0.0001, 'n_estimators': 500}\n",
      "0.796781 (0.010131) with: {'learning_rate': 0.001, 'n_estimators': 50}\n",
      "0.796781 (0.010131) with: {'learning_rate': 0.001, 'n_estimators': 100}\n",
      "0.796781 (0.010131) with: {'learning_rate': 0.001, 'n_estimators': 200}\n",
      "0.796781 (0.010131) with: {'learning_rate': 0.001, 'n_estimators': 500}\n",
      "0.796781 (0.010131) with: {'learning_rate': 0.01, 'n_estimators': 50}\n",
      "0.796781 (0.010131) with: {'learning_rate': 0.01, 'n_estimators': 100}\n",
      "0.795721 (0.010795) with: {'learning_rate': 0.01, 'n_estimators': 200}\n",
      "0.801791 (0.011592) with: {'learning_rate': 0.01, 'n_estimators': 500}\n",
      "0.803196 (0.011100) with: {'learning_rate': 0.1, 'n_estimators': 50}\n",
      "0.808464 (0.011305) with: {'learning_rate': 0.1, 'n_estimators': 100}\n",
      "0.811665 (0.010666) with: {'learning_rate': 0.1, 'n_estimators': 200}\n",
      "0.823124 (0.011472) with: {'learning_rate': 0.1, 'n_estimators': 500}\n",
      "0.816810 (0.013229) with: {'learning_rate': 1.0, 'n_estimators': 50}\n",
      "0.835810 (0.012198) with: {'learning_rate': 1.0, 'n_estimators': 100}\n",
      "0.857197 (0.009883) with: {'learning_rate': 1.0, 'n_estimators': 200}\n",
      "0.893384 (0.007987) with: {'learning_rate': 1.0, 'n_estimators': 500}\n"
     ]
    }
   ],
   "source": [
    "ros = RandomOverSampler(random_state=42)\n",
    "X_res, y_res = ros.fit_resample(X, y)\n",
    "model = AdaBoostClassifier()\n",
    "# define the grid of values to search\n",
    "grid = dict()\n",
    "grid['n_estimators'] = [50, 100,200,500]\n",
    "grid['learning_rate'] = [0.0001, 0.001, 0.01, 0.1, 1.0]\n",
    "# define the evaluation procedure\n",
    "cv = RepeatedStratifiedKFold(n_splits=10, n_repeats=3, random_state=1)\n",
    "# define the grid search procedure\n",
    "grid_search = GridSearchCV(estimator=model, param_grid=grid, n_jobs=-1, cv=cv, scoring='f1')\n",
    "# execute the grid search\n",
    "grid_result = grid_search.fit(X_res, y_res)\n",
    "# summarize the best score and configuration\n",
    "print(\"Best: %f using %s\" % (grid_result.best_score_, grid_result.best_params_))\n",
    "# summarize all scores that were evaluated\n",
    "means = grid_result.cv_results_['mean_test_score']\n",
    "stds = grid_result.cv_results_['std_test_score']\n",
    "params = grid_result.cv_results_['params']\n",
    "for mean, stdev, param in zip(means, stds, params):\n",
    "    print(\"%f (%f) with: %r\" % (mean, stdev, param))"
   ]
  },
  {
   "cell_type": "markdown",
   "metadata": {},
   "source": [
    "#### Best Model"
   ]
  },
  {
   "cell_type": "code",
   "execution_count": 411,
   "metadata": {},
   "outputs": [],
   "source": [
    "ros = RandomOverSampler(random_state=42)\n",
    "X_train,X_test,y_train,y_test = train_test_split(X,y,test_size = 0.3,random_state = 15)\n",
    "\n",
    "X_res, y_res = ros.fit_resample(X_train, y_train)\n",
    "\n",
    "\n",
    "model = AdaBoostClassifier(n_estimators=500, algorithm='SAMME')\n",
    "model.fit(X_res,y_res)\n",
    "pred = model.predict(X_test)\n",
    "df_pred = pd.DataFrame({'predictions':pred,'y_true':y_test})\n",
    "\n",
    "conf_opt = classification_report(df_pred.y_true,df_pred.predictions)\n",
    "cross_tab = pd.crosstab(df_pred.y_true,df_pred.predictions,margins=True)\n",
    "\n",
    "accuracy = accuracy_score(df_pred.y_true,df_pred.predictions)"
   ]
  },
  {
   "cell_type": "code",
   "execution_count": 412,
   "metadata": {},
   "outputs": [
    {
     "name": "stdout",
     "output_type": "stream",
     "text": [
      "              precision    recall  f1-score   support\n",
      "\n",
      "           0       0.98      0.73      0.84      1457\n",
      "           1       0.12      0.74      0.21        76\n",
      "\n",
      "   micro avg       0.73      0.73      0.73      1533\n",
      "   macro avg       0.55      0.73      0.52      1533\n",
      "weighted avg       0.94      0.73      0.80      1533\n",
      "\n"
     ]
    }
   ],
   "source": [
    "print(conf_opt)"
   ]
  },
  {
   "cell_type": "markdown",
   "metadata": {},
   "source": [
    "The best model so Far has recall: 74% and Precision: 12%\n",
    "\n",
    "\n",
    "Based on the preferences,we can either optimize for the Precision or Recall.\n",
    "\n",
    "If stroke treatment has no harm on the patient then we probally would want to optimize on the recall, so that we can ensure that we identify as many patients as possible who are likely to get stroke.\n",
    "\n",
    "\n",
    "Further optimization can be done by the use of the cutoff and also feature engeneering based on the understanding of the existing features"
   ]
  },
  {
   "cell_type": "code",
   "execution_count": null,
   "metadata": {},
   "outputs": [],
   "source": []
  }
 ],
 "metadata": {
  "kernelspec": {
   "display_name": "Python 3",
   "language": "python",
   "name": "python3"
  },
  "language_info": {
   "codemirror_mode": {
    "name": "ipython",
    "version": 3
   },
   "file_extension": ".py",
   "mimetype": "text/x-python",
   "name": "python",
   "nbconvert_exporter": "python",
   "pygments_lexer": "ipython3",
   "version": "3.6.9"
  }
 },
 "nbformat": 4,
 "nbformat_minor": 2
}
