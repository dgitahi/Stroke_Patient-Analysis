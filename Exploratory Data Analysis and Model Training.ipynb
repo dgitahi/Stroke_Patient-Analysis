{
 "cells": [
  {
   "cell_type": "markdown",
   "metadata": {},
   "source": [
    "Data:\n",
    "\n",
    "Contains information of patients who either had stoke or not.\n",
    "\n",
    "The aim of the analysis is to develop a model that is able to predict patients who will get stroke\n",
    "\n",
    "The Data set contains 10 features describing the patient historical information and any underlying conditions.\n",
    "\n",
    "Using this data will attempt to answer the below questions:\n",
    "\n",
    "1. Does smoking increase/decrease the probability of getting stroke?\n",
    "2. Does a patient with other underlying conditions more susceptible to stroke?\n",
    "3. What are the top three predictors of stroke?"
   ]
  },
  {
   "cell_type": "code",
   "execution_count": 1,
   "metadata": {},
   "outputs": [],
   "source": [
    "import pandas as pd\n",
    "import numpy as np\n",
    "import matplotlib.pyplot as plt\n",
    "import seaborn as sns"
   ]
  },
  {
   "cell_type": "code",
   "execution_count": 2,
   "metadata": {},
   "outputs": [
    {
     "data": {
      "text/html": [
       "<div>\n",
       "<style scoped>\n",
       "    .dataframe tbody tr th:only-of-type {\n",
       "        vertical-align: middle;\n",
       "    }\n",
       "\n",
       "    .dataframe tbody tr th {\n",
       "        vertical-align: top;\n",
       "    }\n",
       "\n",
       "    .dataframe thead th {\n",
       "        text-align: right;\n",
       "    }\n",
       "</style>\n",
       "<table border=\"1\" class=\"dataframe\">\n",
       "  <thead>\n",
       "    <tr style=\"text-align: right;\">\n",
       "      <th></th>\n",
       "      <th>id</th>\n",
       "      <th>gender</th>\n",
       "      <th>age</th>\n",
       "      <th>hypertension</th>\n",
       "      <th>heart_disease</th>\n",
       "      <th>ever_married</th>\n",
       "      <th>work_type</th>\n",
       "      <th>Residence_type</th>\n",
       "      <th>avg_glucose_level</th>\n",
       "      <th>bmi</th>\n",
       "      <th>smoking_status</th>\n",
       "      <th>stroke</th>\n",
       "    </tr>\n",
       "  </thead>\n",
       "  <tbody>\n",
       "    <tr>\n",
       "      <th>0</th>\n",
       "      <td>9046</td>\n",
       "      <td>Male</td>\n",
       "      <td>67.0</td>\n",
       "      <td>0</td>\n",
       "      <td>1</td>\n",
       "      <td>Yes</td>\n",
       "      <td>Private</td>\n",
       "      <td>Urban</td>\n",
       "      <td>228.69</td>\n",
       "      <td>36.6</td>\n",
       "      <td>formerly smoked</td>\n",
       "      <td>1</td>\n",
       "    </tr>\n",
       "    <tr>\n",
       "      <th>1</th>\n",
       "      <td>51676</td>\n",
       "      <td>Female</td>\n",
       "      <td>61.0</td>\n",
       "      <td>0</td>\n",
       "      <td>0</td>\n",
       "      <td>Yes</td>\n",
       "      <td>Self-employed</td>\n",
       "      <td>Rural</td>\n",
       "      <td>202.21</td>\n",
       "      <td>NaN</td>\n",
       "      <td>never smoked</td>\n",
       "      <td>1</td>\n",
       "    </tr>\n",
       "    <tr>\n",
       "      <th>2</th>\n",
       "      <td>31112</td>\n",
       "      <td>Male</td>\n",
       "      <td>80.0</td>\n",
       "      <td>0</td>\n",
       "      <td>1</td>\n",
       "      <td>Yes</td>\n",
       "      <td>Private</td>\n",
       "      <td>Rural</td>\n",
       "      <td>105.92</td>\n",
       "      <td>32.5</td>\n",
       "      <td>never smoked</td>\n",
       "      <td>1</td>\n",
       "    </tr>\n",
       "    <tr>\n",
       "      <th>3</th>\n",
       "      <td>60182</td>\n",
       "      <td>Female</td>\n",
       "      <td>49.0</td>\n",
       "      <td>0</td>\n",
       "      <td>0</td>\n",
       "      <td>Yes</td>\n",
       "      <td>Private</td>\n",
       "      <td>Urban</td>\n",
       "      <td>171.23</td>\n",
       "      <td>34.4</td>\n",
       "      <td>smokes</td>\n",
       "      <td>1</td>\n",
       "    </tr>\n",
       "    <tr>\n",
       "      <th>4</th>\n",
       "      <td>1665</td>\n",
       "      <td>Female</td>\n",
       "      <td>79.0</td>\n",
       "      <td>1</td>\n",
       "      <td>0</td>\n",
       "      <td>Yes</td>\n",
       "      <td>Self-employed</td>\n",
       "      <td>Rural</td>\n",
       "      <td>174.12</td>\n",
       "      <td>24.0</td>\n",
       "      <td>never smoked</td>\n",
       "      <td>1</td>\n",
       "    </tr>\n",
       "  </tbody>\n",
       "</table>\n",
       "</div>"
      ],
      "text/plain": [
       "      id  gender   age  hypertension  heart_disease ever_married  \\\n",
       "0   9046    Male  67.0             0              1          Yes   \n",
       "1  51676  Female  61.0             0              0          Yes   \n",
       "2  31112    Male  80.0             0              1          Yes   \n",
       "3  60182  Female  49.0             0              0          Yes   \n",
       "4   1665  Female  79.0             1              0          Yes   \n",
       "\n",
       "       work_type Residence_type  avg_glucose_level   bmi   smoking_status  \\\n",
       "0        Private          Urban             228.69  36.6  formerly smoked   \n",
       "1  Self-employed          Rural             202.21   NaN     never smoked   \n",
       "2        Private          Rural             105.92  32.5     never smoked   \n",
       "3        Private          Urban             171.23  34.4           smokes   \n",
       "4  Self-employed          Rural             174.12  24.0     never smoked   \n",
       "\n",
       "   stroke  \n",
       "0       1  \n",
       "1       1  \n",
       "2       1  \n",
       "3       1  \n",
       "4       1  "
      ]
     },
     "execution_count": 2,
     "metadata": {},
     "output_type": "execute_result"
    }
   ],
   "source": [
    "#import the data and view\n",
    "df = pd.read_csv('/Users/dgitahi/Documents/nano degree/healthcare-dataset-stroke-data.csv')\n",
    "df.head()"
   ]
  },
  {
   "cell_type": "code",
   "execution_count": 3,
   "metadata": {},
   "outputs": [
    {
     "data": {
      "text/plain": [
       "(5110, 12)"
      ]
     },
     "execution_count": 3,
     "metadata": {},
     "output_type": "execute_result"
    }
   ],
   "source": [
    "df.shape"
   ]
  },
  {
   "cell_type": "code",
   "execution_count": 4,
   "metadata": {},
   "outputs": [
    {
     "name": "stdout",
     "output_type": "stream",
     "text": [
      "<class 'pandas.core.frame.DataFrame'>\n",
      "RangeIndex: 5110 entries, 0 to 5109\n",
      "Data columns (total 12 columns):\n",
      " #   Column             Non-Null Count  Dtype  \n",
      "---  ------             --------------  -----  \n",
      " 0   id                 5110 non-null   int64  \n",
      " 1   gender             5110 non-null   object \n",
      " 2   age                5110 non-null   float64\n",
      " 3   hypertension       5110 non-null   int64  \n",
      " 4   heart_disease      5110 non-null   int64  \n",
      " 5   ever_married       5110 non-null   object \n",
      " 6   work_type          5110 non-null   object \n",
      " 7   Residence_type     5110 non-null   object \n",
      " 8   avg_glucose_level  5110 non-null   float64\n",
      " 9   bmi                4909 non-null   float64\n",
      " 10  smoking_status     5110 non-null   object \n",
      " 11  stroke             5110 non-null   int64  \n",
      "dtypes: float64(3), int64(4), object(5)\n",
      "memory usage: 479.2+ KB\n"
     ]
    }
   ],
   "source": [
    "df.info()"
   ]
  },
  {
   "cell_type": "markdown",
   "metadata": {},
   "source": [
    "#### Checking for Missing values."
   ]
  },
  {
   "cell_type": "code",
   "execution_count": 5,
   "metadata": {},
   "outputs": [
    {
     "data": {
      "text/plain": [
       "id                     0\n",
       "gender                 0\n",
       "age                    0\n",
       "hypertension           0\n",
       "heart_disease          0\n",
       "ever_married           0\n",
       "work_type              0\n",
       "Residence_type         0\n",
       "avg_glucose_level      0\n",
       "bmi                  201\n",
       "smoking_status         0\n",
       "stroke                 0\n",
       "dtype: int64"
      ]
     },
     "execution_count": 5,
     "metadata": {},
     "output_type": "execute_result"
    }
   ],
   "source": [
    "df.isnull().sum()"
   ]
  },
  {
   "cell_type": "code",
   "execution_count": 6,
   "metadata": {},
   "outputs": [
    {
     "name": "stdout",
     "output_type": "stream",
     "text": [
      "percentage missing 3.9334637964774952\n"
     ]
    }
   ],
   "source": [
    "print(f'percentage missing', df['bmi'].isnull().sum()/df.shape[0]*100)"
   ]
  },
  {
   "cell_type": "markdown",
   "metadata": {},
   "source": [
    "Only BMI has 4% missing data. Since BMI is calculated from the patient weight and height. Missing would mean either of the two was missing or both but not zero. We can therefore use mean average to replace the missing"
   ]
  },
  {
   "cell_type": "code",
   "execution_count": 7,
   "metadata": {},
   "outputs": [],
   "source": [
    "###replace the missing values with the mean.\n",
    "\n",
    "df['bmi'].fillna(value = df['bmi'].mean(),inplace=True)"
   ]
  },
  {
   "cell_type": "markdown",
   "metadata": {},
   "source": [
    "### Exploratoly Data Analysis"
   ]
  },
  {
   "cell_type": "markdown",
   "metadata": {},
   "source": [
    "- Bar plot for the numerical variabes\n",
    "- count plot for the catgerical variables\n",
    "- feature exp for checking the probability."
   ]
  },
  {
   "cell_type": "code",
   "execution_count": 8,
   "metadata": {},
   "outputs": [
    {
     "data": {
      "text/html": [
       "<div>\n",
       "<style scoped>\n",
       "    .dataframe tbody tr th:only-of-type {\n",
       "        vertical-align: middle;\n",
       "    }\n",
       "\n",
       "    .dataframe tbody tr th {\n",
       "        vertical-align: top;\n",
       "    }\n",
       "\n",
       "    .dataframe thead th {\n",
       "        text-align: right;\n",
       "    }\n",
       "</style>\n",
       "<table border=\"1\" class=\"dataframe\">\n",
       "  <thead>\n",
       "    <tr style=\"text-align: right;\">\n",
       "      <th></th>\n",
       "      <th>id</th>\n",
       "      <th>age</th>\n",
       "      <th>hypertension</th>\n",
       "      <th>heart_disease</th>\n",
       "      <th>avg_glucose_level</th>\n",
       "      <th>bmi</th>\n",
       "      <th>stroke</th>\n",
       "    </tr>\n",
       "  </thead>\n",
       "  <tbody>\n",
       "    <tr>\n",
       "      <th>count</th>\n",
       "      <td>5110.000000</td>\n",
       "      <td>5110.000000</td>\n",
       "      <td>5110.000000</td>\n",
       "      <td>5110.000000</td>\n",
       "      <td>5110.000000</td>\n",
       "      <td>5110.000000</td>\n",
       "      <td>5110.000000</td>\n",
       "    </tr>\n",
       "    <tr>\n",
       "      <th>mean</th>\n",
       "      <td>36517.829354</td>\n",
       "      <td>43.226614</td>\n",
       "      <td>0.097456</td>\n",
       "      <td>0.054012</td>\n",
       "      <td>106.147677</td>\n",
       "      <td>28.893237</td>\n",
       "      <td>0.048728</td>\n",
       "    </tr>\n",
       "    <tr>\n",
       "      <th>std</th>\n",
       "      <td>21161.721625</td>\n",
       "      <td>22.612647</td>\n",
       "      <td>0.296607</td>\n",
       "      <td>0.226063</td>\n",
       "      <td>45.283560</td>\n",
       "      <td>7.698018</td>\n",
       "      <td>0.215320</td>\n",
       "    </tr>\n",
       "    <tr>\n",
       "      <th>min</th>\n",
       "      <td>67.000000</td>\n",
       "      <td>0.080000</td>\n",
       "      <td>0.000000</td>\n",
       "      <td>0.000000</td>\n",
       "      <td>55.120000</td>\n",
       "      <td>10.300000</td>\n",
       "      <td>0.000000</td>\n",
       "    </tr>\n",
       "    <tr>\n",
       "      <th>25%</th>\n",
       "      <td>17741.250000</td>\n",
       "      <td>25.000000</td>\n",
       "      <td>0.000000</td>\n",
       "      <td>0.000000</td>\n",
       "      <td>77.245000</td>\n",
       "      <td>23.800000</td>\n",
       "      <td>0.000000</td>\n",
       "    </tr>\n",
       "    <tr>\n",
       "      <th>50%</th>\n",
       "      <td>36932.000000</td>\n",
       "      <td>45.000000</td>\n",
       "      <td>0.000000</td>\n",
       "      <td>0.000000</td>\n",
       "      <td>91.885000</td>\n",
       "      <td>28.400000</td>\n",
       "      <td>0.000000</td>\n",
       "    </tr>\n",
       "    <tr>\n",
       "      <th>75%</th>\n",
       "      <td>54682.000000</td>\n",
       "      <td>61.000000</td>\n",
       "      <td>0.000000</td>\n",
       "      <td>0.000000</td>\n",
       "      <td>114.090000</td>\n",
       "      <td>32.800000</td>\n",
       "      <td>0.000000</td>\n",
       "    </tr>\n",
       "    <tr>\n",
       "      <th>max</th>\n",
       "      <td>72940.000000</td>\n",
       "      <td>82.000000</td>\n",
       "      <td>1.000000</td>\n",
       "      <td>1.000000</td>\n",
       "      <td>271.740000</td>\n",
       "      <td>97.600000</td>\n",
       "      <td>1.000000</td>\n",
       "    </tr>\n",
       "  </tbody>\n",
       "</table>\n",
       "</div>"
      ],
      "text/plain": [
       "                 id          age  hypertension  heart_disease  \\\n",
       "count   5110.000000  5110.000000   5110.000000    5110.000000   \n",
       "mean   36517.829354    43.226614      0.097456       0.054012   \n",
       "std    21161.721625    22.612647      0.296607       0.226063   \n",
       "min       67.000000     0.080000      0.000000       0.000000   \n",
       "25%    17741.250000    25.000000      0.000000       0.000000   \n",
       "50%    36932.000000    45.000000      0.000000       0.000000   \n",
       "75%    54682.000000    61.000000      0.000000       0.000000   \n",
       "max    72940.000000    82.000000      1.000000       1.000000   \n",
       "\n",
       "       avg_glucose_level          bmi       stroke  \n",
       "count        5110.000000  5110.000000  5110.000000  \n",
       "mean          106.147677    28.893237     0.048728  \n",
       "std            45.283560     7.698018     0.215320  \n",
       "min            55.120000    10.300000     0.000000  \n",
       "25%            77.245000    23.800000     0.000000  \n",
       "50%            91.885000    28.400000     0.000000  \n",
       "75%           114.090000    32.800000     0.000000  \n",
       "max           271.740000    97.600000     1.000000  "
      ]
     },
     "execution_count": 8,
     "metadata": {},
     "output_type": "execute_result"
    }
   ],
   "source": [
    "df.describe()"
   ]
  },
  {
   "cell_type": "code",
   "execution_count": 9,
   "metadata": {},
   "outputs": [
    {
     "data": {
      "image/png": "[encoded data removed]",
      "text/plain": [
       "<Figure size 432x288 with 1 Axes>"
      ]
     },
     "metadata": {
      "needs_background": "light"
     },
     "output_type": "display_data"
    }
   ],
   "source": [
    "plt.title('Distribution of Target Variable')\n",
    "sns.countplot(x= 'stroke',data=df)\n",
    "plt.show()"
   ]
  },
  {
   "cell_type": "markdown",
   "metadata": {},
   "source": [
    "The data is highly imbalanced."
   ]
  },
  {
   "cell_type": "markdown",
   "metadata": {},
   "source": [
    "#### Numerical Variables analysis"
   ]
  },
  {
   "cell_type": "code",
   "execution_count": 10,
   "metadata": {},
   "outputs": [
    {
     "data": {
      "image/png": "[encoded data removed]",
      "text/plain": [
       "<Figure size 576x360 with 1 Axes>"
      ]
     },
     "metadata": {
      "needs_background": "light"
     },
     "output_type": "display_data"
    },
    {
     "data": {
      "image/png": "[encoded data removed]",
      "text/plain": [
       "<Figure size 576x360 with 1 Axes>"
      ]
     },
     "metadata": {
      "needs_background": "light"
     },
     "output_type": "display_data"
    },
    {
     "data": {
      "image/png": "[encoded data removed]",
      "text/plain": [
       "<Figure size 576x360 with 1 Axes>"
      ]
     },
     "metadata": {
      "needs_background": "light"
     },
     "output_type": "display_data"
    }
   ],
   "source": [
    "for i in ['age','avg_glucose_level','bmi']:\n",
    "    plt.figure(figsize=(8,5))\n",
    "    plt.title(i)\n",
    "    sns.barplot(x= \"stroke\",y= i,data = df,capsize=0.05,ci='sd')\n",
    "    plt.show()"
   ]
  },
  {
   "cell_type": "markdown",
   "metadata": {},
   "source": [
    "Older patients seem to be more suseptible to stroke\n",
    "\n",
    "Patients with stroke have a higher glucose level.\n",
    "\n",
    "Average BMI for both group of patient is similar.\n",
    "\n",
    "\n"
   ]
  },
  {
   "cell_type": "markdown",
   "metadata": {},
   "source": [
    "### Categorical Variables\n",
    "\n",
    "Convert the categgorical variables into dummies and drop the original column. Keep k-1 columns.\n",
    "\n",
    "\n"
   ]
  },
  {
   "cell_type": "code",
   "execution_count": 11,
   "metadata": {},
   "outputs": [],
   "source": [
    "def create_dummies(df):\n",
    "    \"\"\"create dummy columns for the categorical \n",
    "        feature. \n",
    "        returns a df that has all the numeric features and the dummy features\"\"\"\n",
    "    df_cat_features = df.select_dtypes(include = ['object'])\n",
    "    df_numeric_feature = df.select_dtypes(include=['float64','int64'])\n",
    "    cat_feature_list = df_cat_features.columns.values\n",
    "    df_cat_dummies = pd.get_dummies(df_cat_features,prefix=cat_feature_list,prefix_sep='_',columns=cat_feature_list,drop_first=True)\n",
    "    df_new = df_numeric_feature.join(df_cat_dummies)\n",
    "    #print(df_new)\n",
    "    return df_new\n",
    "df_new = create_dummies(df)"
   ]
  },
  {
   "cell_type": "markdown",
   "metadata": {},
   "source": [
    "### Train and Test Model"
   ]
  },
  {
   "cell_type": "code",
   "execution_count": 12,
   "metadata": {},
   "outputs": [],
   "source": [
    "\n",
    "import matplotlib.pyplot as plt\n",
    "from sklearn import model_selection\n",
    "from sklearn.linear_model import LogisticRegression\n",
    "from sklearn.ensemble import RandomForestClassifier\n",
    "from sklearn.ensemble import AdaBoostClassifier\n",
    "\n",
    "from sklearn.model_selection import train_test_split\n",
    "from sklearn.neighbors import KNeighborsClassifier\n",
    "import warnings\n",
    "warnings.filterwarnings(\"ignore\")\n",
    "from sklearn.metrics import classification_report,accuracy_score"
   ]
  },
  {
   "cell_type": "code",
   "execution_count": 13,
   "metadata": {},
   "outputs": [],
   "source": [
    "X= df_new.drop(columns=['stroke','id'],axis= 1)\n",
    "y= df_new['stroke']\n",
    "X_train,X_test,y_train,y_test = train_test_split(X,y,test_size = 0.3,random_state = 42)\n"
   ]
  },
  {
   "cell_type": "markdown",
   "metadata": {},
   "source": [
    "#### Train and Test several Models and Pick the Best"
   ]
  },
  {
   "cell_type": "code",
   "execution_count": 14,
   "metadata": {},
   "outputs": [],
   "source": [
    "models = {'RF': RandomForestClassifier(),'LR': LogisticRegression(), 'KN':KNeighborsClassifier(),\n",
    "         'AD':AdaBoostClassifier()}"
   ]
  },
  {
   "cell_type": "code",
   "execution_count": 15,
   "metadata": {},
   "outputs": [
    {
     "name": "stdout",
     "output_type": "stream",
     "text": [
      " model: RF \n",
      "              precision    recall  f1-score   support\n",
      "\n",
      "           0       0.94      1.00      0.97      1444\n",
      "           1       0.25      0.01      0.02        89\n",
      "\n",
      "   micro avg       0.94      0.94      0.94      1533\n",
      "   macro avg       0.60      0.50      0.50      1533\n",
      "weighted avg       0.90      0.94      0.91      1533\n",
      "\n",
      "predictions     0  1   All\n",
      "y_true                    \n",
      "0            1441  3  1444\n",
      "1              88  1    89\n",
      "All          1529  4  1533\n",
      " model accuracy =0.9406392694063926 \n",
      " model: LR \n",
      "              precision    recall  f1-score   support\n",
      "\n",
      "           0       0.94      1.00      0.97      1444\n",
      "           1       0.00      0.00      0.00        89\n",
      "\n",
      "   micro avg       0.94      0.94      0.94      1533\n",
      "   macro avg       0.47      0.50      0.49      1533\n",
      "weighted avg       0.89      0.94      0.91      1533\n",
      "\n",
      "predictions     0   All\n",
      "y_true                 \n",
      "0            1444  1444\n",
      "1              89    89\n",
      "All          1533  1533\n",
      " model accuracy =0.9419439008480104 \n",
      " model: KN \n",
      "              precision    recall  f1-score   support\n",
      "\n",
      "           0       0.94      0.99      0.97      1444\n",
      "           1       0.15      0.02      0.04        89\n",
      "\n",
      "   micro avg       0.94      0.94      0.94      1533\n",
      "   macro avg       0.55      0.51      0.50      1533\n",
      "weighted avg       0.90      0.94      0.91      1533\n",
      "\n",
      "predictions     0   1   All\n",
      "y_true                     \n",
      "0            1433  11  1444\n",
      "1              87   2    89\n",
      "All          1520  13  1533\n",
      " model accuracy =0.9360730593607306 \n",
      " model: AD \n",
      "              precision    recall  f1-score   support\n",
      "\n",
      "           0       0.94      0.99      0.97      1444\n",
      "           1       0.11      0.01      0.02        89\n",
      "\n",
      "   micro avg       0.94      0.94      0.94      1533\n",
      "   macro avg       0.53      0.50      0.49      1533\n",
      "weighted avg       0.89      0.94      0.91      1533\n",
      "\n",
      "predictions     0  1   All\n",
      "y_true                    \n",
      "0            1436  8  1444\n",
      "1              88  1    89\n",
      "All          1524  9  1533\n",
      " model accuracy =0.9373776908023483 \n"
     ]
    }
   ],
   "source": [
    "#train 4 models and evaluate which performs the best\n",
    "for i in models.keys():\n",
    "    model = models[i]\n",
    "    model.fit(X_train,y_train)\n",
    "    pred = model.predict(X_test)\n",
    "    df_pred = pd.DataFrame({'predictions':pred,'y_true':y_test})\n",
    "    conf_opt = classification_report(df_pred.y_true,df_pred.predictions)\n",
    "    cross_tab = pd.crosstab(df_pred.y_true,df_pred.predictions,margins=True)\n",
    "    accuracy = accuracy_score(df_pred.y_true,df_pred.predictions)\n",
    "  \n",
    "    print(f\" model: {i} \")\n",
    "    \n",
    "    print(conf_opt)\n",
    "    print(cross_tab)\n",
    "    print(f\" model accuracy ={accuracy} \")"
   ]
  },
  {
   "cell_type": "markdown",
   "metadata": {},
   "source": [
    "None of the model is performing well, we probably need to deal with the issue of the imbalanced data"
   ]
  },
  {
   "cell_type": "markdown",
   "metadata": {},
   "source": [
    "### Treating the imbalance in the dataset\n",
    "We try out several methods and find out which works the best:\n",
    "* Oversampling\n",
    "* Undersampling\n",
    "* SMOTE"
   ]
  },
  {
   "cell_type": "markdown",
   "metadata": {},
   "source": [
    "#### OverSampling"
   ]
  },
  {
   "cell_type": "code",
   "execution_count": 16,
   "metadata": {},
   "outputs": [
    {
     "name": "stdout",
     "output_type": "stream",
     "text": [
      "Original dataset shape Counter({0: 3417, 1: 160})\n",
      "Resampled dataset shape Counter({0: 3417, 1: 3417})\n"
     ]
    }
   ],
   "source": [
    "\n",
    "\n",
    "from collections import Counter\n",
    "from imblearn.over_sampling import RandomOverSampler\n",
    "\n",
    "print('Original dataset shape %s' % Counter(y_train))\n",
    "\n",
    "ros = RandomOverSampler(random_state=42)\n",
    "X_res, y_res = ros.fit_resample(X_train, y_train)\n",
    "print('Resampled dataset shape %s' % Counter(y_res))\n"
   ]
  },
  {
   "cell_type": "code",
   "execution_count": 17,
   "metadata": {},
   "outputs": [
    {
     "name": "stdout",
     "output_type": "stream",
     "text": [
      " model: RF \n",
      "              precision    recall  f1-score   support\n",
      "\n",
      "           0       0.94      0.99      0.97      1444\n",
      "           1       0.00      0.00      0.00        89\n",
      "\n",
      "   micro avg       0.93      0.93      0.93      1533\n",
      "   macro avg       0.47      0.50      0.48      1533\n",
      "weighted avg       0.89      0.93      0.91      1533\n",
      "\n",
      "predictions     0   1   All\n",
      "y_true                     \n",
      "0            1432  12  1444\n",
      "1              89   0    89\n",
      "All          1521  12  1533\n",
      " model accuracy =0.9341161121983039 \n",
      " model: LR \n",
      "              precision    recall  f1-score   support\n",
      "\n",
      "           0       0.98      0.75      0.85      1444\n",
      "           1       0.15      0.73      0.25        89\n",
      "\n",
      "   micro avg       0.75      0.75      0.75      1533\n",
      "   macro avg       0.57      0.74      0.55      1533\n",
      "weighted avg       0.93      0.75      0.82      1533\n",
      "\n",
      "predictions     0    1   All\n",
      "y_true                      \n",
      "0            1085  359  1444\n",
      "1              24   65    89\n",
      "All          1109  424  1533\n",
      " model accuracy =0.7501630789302022 \n",
      " model: KN \n",
      "              precision    recall  f1-score   support\n",
      "\n",
      "           0       0.96      0.89      0.92      1444\n",
      "           1       0.17      0.37      0.23        89\n",
      "\n",
      "   micro avg       0.86      0.86      0.86      1533\n",
      "   macro avg       0.56      0.63      0.58      1533\n",
      "weighted avg       0.91      0.86      0.88      1533\n",
      "\n",
      "predictions     0    1   All\n",
      "y_true                      \n",
      "0            1281  163  1444\n",
      "1              56   33    89\n",
      "All          1337  196  1533\n",
      " model accuracy =0.8571428571428571 \n",
      " model: AD \n",
      "              precision    recall  f1-score   support\n",
      "\n",
      "           0       0.98      0.75      0.85      1444\n",
      "           1       0.15      0.72      0.25        89\n",
      "\n",
      "   micro avg       0.75      0.75      0.75      1533\n",
      "   macro avg       0.56      0.74      0.55      1533\n",
      "weighted avg       0.93      0.75      0.81      1533\n",
      "\n",
      "predictions     0    1   All\n",
      "y_true                      \n",
      "0            1085  359  1444\n",
      "1              25   64    89\n",
      "All          1110  423  1533\n",
      " model accuracy =0.7495107632093934 \n"
     ]
    }
   ],
   "source": [
    "models = {'RF': RandomForestClassifier(),'LR': LogisticRegression(), 'KN':KNeighborsClassifier(),\n",
    "         'AD':AdaBoostClassifier()}\n",
    "for i in models.keys():\n",
    "    model = models[i]\n",
    "    model.fit(X_res,y_res)\n",
    "    pred = model.predict(X_test)\n",
    "    df_pred = pd.DataFrame({'predictions':pred,'y_true':y_test})\n",
    "    conf_opt = classification_report(df_pred.y_true,df_pred.predictions)\n",
    "    cross_tab = pd.crosstab(df_pred.y_true,df_pred.predictions,margins=True)\n",
    "    accuracy = accuracy_score(df_pred.y_true,df_pred.predictions)\n",
    "  \n",
    "    print(f\" model: {i} \")\n",
    "    \n",
    "    print(conf_opt)\n",
    "    print(cross_tab)\n",
    "    print(f\" model accuracy ={accuracy} \")"
   ]
  },
  {
   "cell_type": "markdown",
   "metadata": {},
   "source": [
    "#### SMOTE"
   ]
  },
  {
   "cell_type": "code",
   "execution_count": 18,
   "metadata": {},
   "outputs": [
    {
     "name": "stdout",
     "output_type": "stream",
     "text": [
      "Original dataset shape Counter({0: 3417, 1: 160})\n",
      "Resample dataset shape Counter({0: 3417, 1: 3417})\n"
     ]
    }
   ],
   "source": [
    "# import library\n",
    "from imblearn.over_sampling import SMOTE\n",
    "\n",
    "smote = SMOTE()\n",
    "\n",
    "# fit predictor and target variable\n",
    "X_smote, y_smote = smote.fit_resample(X_train, y_train)\n",
    "\n",
    "print('Original dataset shape', Counter(y_train))\n",
    "print('Resample dataset shape', Counter(y_smote))"
   ]
  },
  {
   "cell_type": "code",
   "execution_count": 19,
   "metadata": {},
   "outputs": [
    {
     "name": "stdout",
     "output_type": "stream",
     "text": [
      " model: RF \n",
      "              precision    recall  f1-score   support\n",
      "\n",
      "           0       0.95      0.99      0.97      1444\n",
      "           1       0.38      0.07      0.11        89\n",
      "\n",
      "   micro avg       0.94      0.94      0.94      1533\n",
      "   macro avg       0.66      0.53      0.54      1533\n",
      "weighted avg       0.91      0.94      0.92      1533\n",
      "\n",
      "predictions     0   1   All\n",
      "y_true                     \n",
      "0            1434  10  1444\n",
      "1              83   6    89\n",
      "All          1517  16  1533\n",
      " model accuracy =0.9393346379647749 \n",
      " model: LR \n",
      "              precision    recall  f1-score   support\n",
      "\n",
      "           0       0.98      0.76      0.85      1444\n",
      "           1       0.15      0.72      0.25        89\n",
      "\n",
      "   micro avg       0.76      0.76      0.76      1533\n",
      "   macro avg       0.57      0.74      0.55      1533\n",
      "weighted avg       0.93      0.76      0.82      1533\n",
      "\n",
      "predictions     0    1   All\n",
      "y_true                      \n",
      "0            1095  349  1444\n",
      "1              25   64    89\n",
      "All          1120  413  1533\n",
      " model accuracy =0.7560339204174821 \n",
      " model: KN \n",
      "              precision    recall  f1-score   support\n",
      "\n",
      "           0       0.97      0.82      0.89      1444\n",
      "           1       0.16      0.56      0.25        89\n",
      "\n",
      "   micro avg       0.81      0.81      0.81      1533\n",
      "   macro avg       0.56      0.69      0.57      1533\n",
      "weighted avg       0.92      0.81      0.85      1533\n",
      "\n",
      "predictions     0    1   All\n",
      "y_true                      \n",
      "0            1185  259  1444\n",
      "1              39   50    89\n",
      "All          1224  309  1533\n",
      " model accuracy =0.8056099151989563 \n",
      " model: AD \n",
      "              precision    recall  f1-score   support\n",
      "\n",
      "           0       0.95      0.99      0.97      1444\n",
      "           1       0.35      0.09      0.14        89\n",
      "\n",
      "   micro avg       0.94      0.94      0.94      1533\n",
      "   macro avg       0.65      0.54      0.56      1533\n",
      "weighted avg       0.91      0.94      0.92      1533\n",
      "\n",
      "predictions     0   1   All\n",
      "y_true                     \n",
      "0            1429  15  1444\n",
      "1              81   8    89\n",
      "All          1510  23  1533\n",
      " model accuracy =0.9373776908023483 \n"
     ]
    }
   ],
   "source": [
    "models = {'RF': RandomForestClassifier(),'LR': LogisticRegression(), 'KN':KNeighborsClassifier(),\n",
    "         'AD':AdaBoostClassifier()}\n",
    "for i in models.keys():\n",
    "    model = models[i]\n",
    "    model.fit(X_smote,y_smote)\n",
    "    pred = model.predict(X_test)\n",
    "    df_pred = pd.DataFrame({'predictions':pred,'y_true':y_test})\n",
    "    conf_opt = classification_report(df_pred.y_true,df_pred.predictions)\n",
    "    cross_tab = pd.crosstab(df_pred.y_true,df_pred.predictions,margins=True)\n",
    "    accuracy = accuracy_score(df_pred.y_true,df_pred.predictions)\n",
    "  \n",
    "    print(f\" model: {i} \")\n",
    "    \n",
    "    print(conf_opt)\n",
    "    print(cross_tab)\n",
    "    print(f\" model accuracy ={accuracy} \")"
   ]
  },
  {
   "cell_type": "markdown",
   "metadata": {},
   "source": [
    "Oversampling seem to perform better especially for the ADABoost Model. \n",
    "\n",
    "Will Use oversampling Technique to treat for the inbalance in the Data.\n",
    "\n",
    "\n",
    "To increase the model performance we need to do feature enggeneering."
   ]
  },
  {
   "cell_type": "markdown",
   "metadata": {},
   "source": [
    "#### Feature Engeneering"
   ]
  },
  {
   "cell_type": "code",
   "execution_count": 16,
   "metadata": {},
   "outputs": [
    {
     "data": {
      "text/html": [
       "<div>\n",
       "<style scoped>\n",
       "    .dataframe tbody tr th:only-of-type {\n",
       "        vertical-align: middle;\n",
       "    }\n",
       "\n",
       "    .dataframe tbody tr th {\n",
       "        vertical-align: top;\n",
       "    }\n",
       "\n",
       "    .dataframe thead th {\n",
       "        text-align: right;\n",
       "    }\n",
       "</style>\n",
       "<table border=\"1\" class=\"dataframe\">\n",
       "  <thead>\n",
       "    <tr style=\"text-align: right;\">\n",
       "      <th></th>\n",
       "      <th>id</th>\n",
       "      <th>age</th>\n",
       "      <th>hypertension</th>\n",
       "      <th>heart_disease</th>\n",
       "      <th>avg_glucose_level</th>\n",
       "      <th>bmi</th>\n",
       "      <th>stroke</th>\n",
       "      <th>gender_Male</th>\n",
       "      <th>gender_Other</th>\n",
       "      <th>ever_married_Yes</th>\n",
       "      <th>work_type_Never_worked</th>\n",
       "      <th>work_type_Private</th>\n",
       "      <th>work_type_Self-employed</th>\n",
       "      <th>work_type_children</th>\n",
       "      <th>Residence_type_Urban</th>\n",
       "      <th>smoking_status_formerly smoked</th>\n",
       "      <th>smoking_status_never smoked</th>\n",
       "      <th>smoking_status_smokes</th>\n",
       "    </tr>\n",
       "  </thead>\n",
       "  <tbody>\n",
       "    <tr>\n",
       "      <th>0</th>\n",
       "      <td>9046</td>\n",
       "      <td>67.0</td>\n",
       "      <td>0</td>\n",
       "      <td>1</td>\n",
       "      <td>228.69</td>\n",
       "      <td>36.600000</td>\n",
       "      <td>1</td>\n",
       "      <td>1</td>\n",
       "      <td>0</td>\n",
       "      <td>1</td>\n",
       "      <td>0</td>\n",
       "      <td>1</td>\n",
       "      <td>0</td>\n",
       "      <td>0</td>\n",
       "      <td>1</td>\n",
       "      <td>1</td>\n",
       "      <td>0</td>\n",
       "      <td>0</td>\n",
       "    </tr>\n",
       "    <tr>\n",
       "      <th>1</th>\n",
       "      <td>51676</td>\n",
       "      <td>61.0</td>\n",
       "      <td>0</td>\n",
       "      <td>0</td>\n",
       "      <td>202.21</td>\n",
       "      <td>28.893237</td>\n",
       "      <td>1</td>\n",
       "      <td>0</td>\n",
       "      <td>0</td>\n",
       "      <td>1</td>\n",
       "      <td>0</td>\n",
       "      <td>0</td>\n",
       "      <td>1</td>\n",
       "      <td>0</td>\n",
       "      <td>0</td>\n",
       "      <td>0</td>\n",
       "      <td>1</td>\n",
       "      <td>0</td>\n",
       "    </tr>\n",
       "    <tr>\n",
       "      <th>2</th>\n",
       "      <td>31112</td>\n",
       "      <td>80.0</td>\n",
       "      <td>0</td>\n",
       "      <td>1</td>\n",
       "      <td>105.92</td>\n",
       "      <td>32.500000</td>\n",
       "      <td>1</td>\n",
       "      <td>1</td>\n",
       "      <td>0</td>\n",
       "      <td>1</td>\n",
       "      <td>0</td>\n",
       "      <td>1</td>\n",
       "      <td>0</td>\n",
       "      <td>0</td>\n",
       "      <td>0</td>\n",
       "      <td>0</td>\n",
       "      <td>1</td>\n",
       "      <td>0</td>\n",
       "    </tr>\n",
       "    <tr>\n",
       "      <th>3</th>\n",
       "      <td>60182</td>\n",
       "      <td>49.0</td>\n",
       "      <td>0</td>\n",
       "      <td>0</td>\n",
       "      <td>171.23</td>\n",
       "      <td>34.400000</td>\n",
       "      <td>1</td>\n",
       "      <td>0</td>\n",
       "      <td>0</td>\n",
       "      <td>1</td>\n",
       "      <td>0</td>\n",
       "      <td>1</td>\n",
       "      <td>0</td>\n",
       "      <td>0</td>\n",
       "      <td>1</td>\n",
       "      <td>0</td>\n",
       "      <td>0</td>\n",
       "      <td>1</td>\n",
       "    </tr>\n",
       "    <tr>\n",
       "      <th>4</th>\n",
       "      <td>1665</td>\n",
       "      <td>79.0</td>\n",
       "      <td>1</td>\n",
       "      <td>0</td>\n",
       "      <td>174.12</td>\n",
       "      <td>24.000000</td>\n",
       "      <td>1</td>\n",
       "      <td>0</td>\n",
       "      <td>0</td>\n",
       "      <td>1</td>\n",
       "      <td>0</td>\n",
       "      <td>0</td>\n",
       "      <td>1</td>\n",
       "      <td>0</td>\n",
       "      <td>0</td>\n",
       "      <td>0</td>\n",
       "      <td>1</td>\n",
       "      <td>0</td>\n",
       "    </tr>\n",
       "  </tbody>\n",
       "</table>\n",
       "</div>"
      ],
      "text/plain": [
       "      id   age  hypertension  heart_disease  avg_glucose_level        bmi  \\\n",
       "0   9046  67.0             0              1             228.69  36.600000   \n",
       "1  51676  61.0             0              0             202.21  28.893237   \n",
       "2  31112  80.0             0              1             105.92  32.500000   \n",
       "3  60182  49.0             0              0             171.23  34.400000   \n",
       "4   1665  79.0             1              0             174.12  24.000000   \n",
       "\n",
       "   stroke  gender_Male  gender_Other  ever_married_Yes  \\\n",
       "0       1            1             0                 1   \n",
       "1       1            0             0                 1   \n",
       "2       1            1             0                 1   \n",
       "3       1            0             0                 1   \n",
       "4       1            0             0                 1   \n",
       "\n",
       "   work_type_Never_worked  work_type_Private  work_type_Self-employed  \\\n",
       "0                       0                  1                        0   \n",
       "1                       0                  0                        1   \n",
       "2                       0                  1                        0   \n",
       "3                       0                  1                        0   \n",
       "4                       0                  0                        1   \n",
       "\n",
       "   work_type_children  Residence_type_Urban  smoking_status_formerly smoked  \\\n",
       "0                   0                     1                               1   \n",
       "1                   0                     0                               0   \n",
       "2                   0                     0                               0   \n",
       "3                   0                     1                               0   \n",
       "4                   0                     0                               0   \n",
       "\n",
       "   smoking_status_never smoked  smoking_status_smokes  \n",
       "0                            0                      0  \n",
       "1                            1                      0  \n",
       "2                            1                      0  \n",
       "3                            0                      1  \n",
       "4                            1                      0  "
      ]
     },
     "execution_count": 16,
     "metadata": {},
     "output_type": "execute_result"
    }
   ],
   "source": [
    "df_new.head()"
   ]
  },
  {
   "cell_type": "code",
   "execution_count": 17,
   "metadata": {},
   "outputs": [],
   "source": [
    "### combine heart and hypertension\n",
    "\n",
    "both_heart_hypertension = []\n",
    "for i in range(0,len(df)):\n",
    "    if df.hypertension.iloc[i] ==1 & df.heart_disease.iloc[i] ==1:\n",
    "        both_heart_hypertension.append(1)\n",
    "    else:\n",
    "        both_heart_hypertension.append(0)\n",
    "        \n",
    "df['both_heart_hypertension'] = both_heart_hypertension"
   ]
  },
  {
   "cell_type": "code",
   "execution_count": 18,
   "metadata": {},
   "outputs": [],
   "source": [
    "#combine smoking and ever smoked\n",
    "\n",
    "smoking = []\n",
    "for i in range(0,len(df)):\n",
    "    if df['smoking_status'].iloc[i] == 'formerly smoked':\n",
    "        smoking.append('1')\n",
    "    elif df['smoking_status'].iloc[i] == 'smokes':\n",
    "        smoking.append('1')\n",
    "        \n",
    "    elif df['smoking_status'].iloc[i] == 'Unknown':\n",
    "        smoking.append('')\n",
    "    else:\n",
    "        smoking.append('0')\n",
    "\n",
    "df['ever_smoked'] = smoking\n",
    "\n",
    "    "
   ]
  },
  {
   "cell_type": "code",
   "execution_count": 19,
   "metadata": {},
   "outputs": [],
   "source": [
    "### calculate Ratios\n",
    "#Age to BMI\n",
    "df['age_bmi'] = df['age']/df['bmi']\n",
    "df['age_avg_glucose'] = df['age']/df['avg_glucose_level']\n",
    "df['glucose_bmi'] = df['avg_glucose_level']/df['bmi']\n"
   ]
  },
  {
   "cell_type": "markdown",
   "metadata": {},
   "source": [
    "#### Test the Model with the New Features"
   ]
  },
  {
   "cell_type": "code",
   "execution_count": 20,
   "metadata": {},
   "outputs": [],
   "source": [
    "def create_dummies(df):\n",
    "    \"\"\"create dummy columns for the categorical \n",
    "        feature. \n",
    "        returns a df that has all the numeric features and the dummy features\"\"\"\n",
    "    df_cat_features = df.select_dtypes(include = ['object'])\n",
    "    df_numeric_feature = df.select_dtypes(include=['float64','int64'])\n",
    "    cat_feature_list = df_cat_features.columns.values\n",
    "    df_cat_dummies = pd.get_dummies(df_cat_features,prefix=cat_feature_list,prefix_sep='_',columns=cat_feature_list,drop_first=True)\n",
    "    df_new = df_numeric_feature.join(df_cat_dummies)\n",
    "    #print(df_new)\n",
    "    return df_new\n",
    "df_new = create_dummies(df)"
   ]
  },
  {
   "cell_type": "code",
   "execution_count": 21,
   "metadata": {},
   "outputs": [],
   "source": [
    "# ratio: age and BMI = age_bmi\n",
    "# ratio age and avg_glucose = age_avg_glucose\n",
    "# combine smoking = ever_smoked\n",
    "# combine diseases= all_dis_present\n",
    "\n"
   ]
  },
  {
   "cell_type": "code",
   "execution_count": 22,
   "metadata": {},
   "outputs": [
    {
     "name": "stdout",
     "output_type": "stream",
     "text": [
      "Original dataset shape Counter({0: 3417, 1: 160})\n",
      "Resampled dataset shape Counter({0: 3417, 1: 3417})\n",
      " model: RF  \n",
      "              precision    recall  f1-score   support\n",
      "\n",
      "           0       0.95      0.99      0.97      1444\n",
      "           1       0.44      0.09      0.15        89\n",
      "\n",
      "   micro avg       0.94      0.94      0.94      1533\n",
      "   macro avg       0.70      0.54      0.56      1533\n",
      "weighted avg       0.92      0.94      0.92      1533\n",
      "\n",
      "predictions     0   1   All\n",
      "y_true                     \n",
      "0            1434  10  1444\n",
      "1              81   8    89\n",
      "All          1515  18  1533\n",
      " model accuracy =0.9406392694063926 \n",
      " model: LR  \n",
      "              precision    recall  f1-score   support\n",
      "\n",
      "           0       0.98      0.76      0.85      1444\n",
      "           1       0.15      0.70      0.25        89\n",
      "\n",
      "   micro avg       0.75      0.75      0.75      1533\n",
      "   macro avg       0.56      0.73      0.55      1533\n",
      "weighted avg       0.93      0.75      0.82      1533\n",
      "\n",
      "predictions     0    1   All\n",
      "y_true                      \n",
      "0            1093  351  1444\n",
      "1              27   62    89\n",
      "All          1120  413  1533\n",
      " model accuracy =0.7534246575342466 \n",
      " model: KN  \n",
      "              precision    recall  f1-score   support\n",
      "\n",
      "           0       0.96      0.89      0.92      1444\n",
      "           1       0.16      0.35      0.22        89\n",
      "\n",
      "   micro avg       0.86      0.86      0.86      1533\n",
      "   macro avg       0.56      0.62      0.57      1533\n",
      "weighted avg       0.91      0.86      0.88      1533\n",
      "\n",
      "predictions     0    1   All\n",
      "y_true                      \n",
      "0            1280  164  1444\n",
      "1              58   31    89\n",
      "All          1338  195  1533\n",
      " model accuracy =0.8551859099804305 \n",
      " model: AD  \n",
      "              precision    recall  f1-score   support\n",
      "\n",
      "           0       0.98      0.77      0.86      1444\n",
      "           1       0.17      0.74      0.27        89\n",
      "\n",
      "   micro avg       0.77      0.77      0.77      1533\n",
      "   macro avg       0.57      0.76      0.57      1533\n",
      "weighted avg       0.93      0.77      0.83      1533\n",
      "\n",
      "predictions     0    1   All\n",
      "y_true                      \n",
      "0            1117  327  1444\n",
      "1              23   66    89\n",
      "All          1140  393  1533\n",
      " model accuracy =0.771689497716895 \n"
     ]
    }
   ],
   "source": [
    "X= df_new.drop(columns=['stroke','id'],axis= 1)\n",
    "y= df_new['stroke']\n",
    "X_train,X_test,y_train,y_test = train_test_split(X,y,test_size = 0.3,random_state = 42)\n",
    "\n",
    "\n",
    "models = {'RF': RandomForestClassifier(),'LR': LogisticRegression(), 'KN':KNeighborsClassifier(),\n",
    "         'AD':AdaBoostClassifier()}\n",
    "\n",
    "\n",
    "from collections import Counter\n",
    "from imblearn.over_sampling import RandomOverSampler\n",
    "\n",
    "print('Original dataset shape %s' % Counter(y_train))\n",
    "\n",
    "ros = RandomOverSampler(random_state=42)\n",
    "X_res, y_res = ros.fit_resample(X_train, y_train)\n",
    "print('Resampled dataset shape %s' % Counter(y_res))\n",
    "\n",
    "\n",
    "\n",
    "\n",
    "model = AdaBoostClassifier()\n",
    "model.fit(X_res,y_res)\n",
    "pred = model.predict(X_test)\n",
    "df_pred = pd.DataFrame({'predictions':pred,'y_true':y_test})\n",
    "\n",
    "conf_opt = classification_report(df_pred.y_true,df_pred.predictions)\n",
    "cross_tab = pd.crosstab(df_pred.y_true,df_pred.predictions,margins=True)\n",
    "\n",
    "accuracy = accuracy_score(df_pred.y_true,df_pred.predictions)\n",
    "\n",
    "\n",
    "models = {'RF': RandomForestClassifier(),'LR': LogisticRegression(), 'KN':KNeighborsClassifier(),\n",
    "         'AD':AdaBoostClassifier()}\n",
    "for i in models.keys():\n",
    "    model = models[i]\n",
    "    model.fit(X_res,y_res)\n",
    "    pred = model.predict(X_test)\n",
    "    df_pred = pd.DataFrame({'predictions':pred,'y_true':y_test})\n",
    "    conf_opt = classification_report(df_pred.y_true,df_pred.predictions)\n",
    "    cross_tab = pd.crosstab(df_pred.y_true,df_pred.predictions,margins=True)\n",
    "    accuracy = accuracy_score(df_pred.y_true,df_pred.predictions)\n",
    "  \n",
    "    print(f\" model: {i}  \") \n",
    "    \n",
    "    print(conf_opt)\n",
    "\n",
    "    print(cross_tab)  \n",
    "\n",
    "    print(f\" model accuracy ={accuracy} \")\n"
   ]
  },
  {
   "cell_type": "markdown",
   "metadata": {},
   "source": [
    "After dealing with the inbalance problem and adding more features we have the Adaboost model perform better tthan the rest.\n",
    "\n",
    "We will continue with the ADABOOST model and optimize the model.\n"
   ]
  },
  {
   "cell_type": "markdown",
   "metadata": {},
   "source": [
    "### Hyperparameter Tuning"
   ]
  },
  {
   "cell_type": "code",
   "execution_count": 174,
   "metadata": {},
   "outputs": [],
   "source": [
    "from sklearn.model_selection import cross_val_score\n",
    "from sklearn.model_selection import RepeatedStratifiedKFold\n",
    "from matplotlib import pyplot\n",
    "from numpy import mean\n",
    "from numpy import std\n",
    "from sklearn.model_selection import GridSearchCV"
   ]
  },
  {
   "cell_type": "markdown",
   "metadata": {},
   "source": [
    "#### Grind Search"
   ]
  },
  {
   "cell_type": "code",
   "execution_count": 394,
   "metadata": {},
   "outputs": [
    {
     "name": "stdout",
     "output_type": "stream",
     "text": [
      "Best: 0.893384 using {'learning_rate': 1.0, 'n_estimators': 500}\n",
      "0.796781 (0.010131) with: {'learning_rate': 0.0001, 'n_estimators': 50}\n",
      "0.796781 (0.010131) with: {'learning_rate': 0.0001, 'n_estimators': 100}\n",
      "0.796781 (0.010131) with: {'learning_rate': 0.0001, 'n_estimators': 200}\n",
      "0.796781 (0.010131) with: {'learning_rate': 0.0001, 'n_estimators': 500}\n",
      "0.796781 (0.010131) with: {'learning_rate': 0.001, 'n_estimators': 50}\n",
      "0.796781 (0.010131) with: {'learning_rate': 0.001, 'n_estimators': 100}\n",
      "0.796781 (0.010131) with: {'learning_rate': 0.001, 'n_estimators': 200}\n",
      "0.796781 (0.010131) with: {'learning_rate': 0.001, 'n_estimators': 500}\n",
      "0.796781 (0.010131) with: {'learning_rate': 0.01, 'n_estimators': 50}\n",
      "0.796781 (0.010131) with: {'learning_rate': 0.01, 'n_estimators': 100}\n",
      "0.795721 (0.010795) with: {'learning_rate': 0.01, 'n_estimators': 200}\n",
      "0.801791 (0.011592) with: {'learning_rate': 0.01, 'n_estimators': 500}\n",
      "0.803196 (0.011100) with: {'learning_rate': 0.1, 'n_estimators': 50}\n",
      "0.808464 (0.011305) with: {'learning_rate': 0.1, 'n_estimators': 100}\n",
      "0.811665 (0.010666) with: {'learning_rate': 0.1, 'n_estimators': 200}\n",
      "0.823124 (0.011472) with: {'learning_rate': 0.1, 'n_estimators': 500}\n",
      "0.816810 (0.013229) with: {'learning_rate': 1.0, 'n_estimators': 50}\n",
      "0.835810 (0.012198) with: {'learning_rate': 1.0, 'n_estimators': 100}\n",
      "0.857197 (0.009883) with: {'learning_rate': 1.0, 'n_estimators': 200}\n",
      "0.893384 (0.007987) with: {'learning_rate': 1.0, 'n_estimators': 500}\n"
     ]
    }
   ],
   "source": [
    "ros = RandomOverSampler(random_state=42)\n",
    "X_res, y_res = ros.fit_resample(X, y)\n",
    "model = AdaBoostClassifier()\n",
    "# define the grid of values to search\n",
    "grid = dict()\n",
    "grid['n_estimators'] = [50, 100,200,500]\n",
    "grid['learning_rate'] = [0.0001, 0.001, 0.01, 0.1, 1.0]\n",
    "# define the evaluation procedure\n",
    "cv = RepeatedStratifiedKFold(n_splits=10, n_repeats=3, random_state=1)\n",
    "# define the grid search procedure\n",
    "grid_search = GridSearchCV(estimator=model, param_grid=grid, n_jobs=-1, cv=cv, scoring='f1')\n",
    "# execute the grid search\n",
    "grid_result = grid_search.fit(X_res, y_res)\n",
    "# summarize the best score and configuration\n",
    "print(\"Best: %f using %s\" % (grid_result.best_score_, grid_result.best_params_))\n",
    "# summarize all scores that were evaluated\n",
    "means = grid_result.cv_results_['mean_test_score']\n",
    "stds = grid_result.cv_results_['std_test_score']\n",
    "params = grid_result.cv_results_['params']\n",
    "for mean, stdev, param in zip(means, stds, params):\n",
    "    print(\"%f (%f) with: %r\" % (mean, stdev, param))"
   ]
  },
  {
   "cell_type": "markdown",
   "metadata": {},
   "source": [
    "#### Best Model"
   ]
  },
  {
   "cell_type": "code",
   "execution_count": 28,
   "metadata": {},
   "outputs": [
    {
     "name": "stdout",
     "output_type": "stream",
     "text": [
      "              precision    recall  f1-score   support\n",
      "\n",
      "           0       0.98      0.73      0.84      1457\n",
      "           1       0.12      0.74      0.21        76\n",
      "\n",
      "   micro avg       0.73      0.73      0.73      1533\n",
      "   macro avg       0.55      0.73      0.52      1533\n",
      "weighted avg       0.94      0.73      0.80      1533\n",
      "\n"
     ]
    }
   ],
   "source": [
    "def train_model():\n",
    "    \"\"\"\n",
    "    Using the classification model- train the model\n",
    "    \"\"\"\n",
    "    \n",
    "    ros = RandomOverSampler(random_state=42)\n",
    "    X_train,X_test,y_train,y_test = train_test_split(X,y,test_size = 0.3,random_state = 15)\n",
    "\n",
    "    X_res, y_res = ros.fit_resample(X_train, y_train)\n",
    "\n",
    "\n",
    "    model = AdaBoostClassifier(n_estimators=500, algorithm='SAMME')\n",
    "    fitted_model = model.fit(X_res,y_res)\n",
    "    \n",
    "    return fitted_model\n",
    "\n",
    "fitted_model = train_model()\n",
    "    \n",
    "def predict_stroke():\n",
    "    \"\"\"\n",
    "    using the trained model predict the patients who will suffer stroke\n",
    "    \"\"\"\n",
    "    pred = model.predict(X_test)\n",
    "    df_pred = pd.DataFrame({'predictions':pred,'y_true':y_test})\n",
    "    \n",
    "    return df_pred\n",
    "\n",
    "df_pred = predict_stroke()\n",
    "    \n",
    "def evaluate_model():\n",
    "    \"\"\"\n",
    "    Evaluate the model performance based on the test dataset\n",
    "    \"\"\"\n",
    "    conf_opt = classification_report(df_pred.y_true,df_pred.predictions)\n",
    "    print(conf_opt)\n",
    "    cross_tab = pd.crosstab(df_pred.y_true,df_pred.predictions,margins=True)\n",
    "    #print(cross_tab)\n",
    "\n",
    "    accuracy = accuracy_score(df_pred.y_true,df_pred.predictions)\n",
    "    #print(accuracy)\n",
    "\n",
    "evaluate_model()\n",
    "    \n",
    "    "
   ]
  },
  {
   "cell_type": "markdown",
   "metadata": {},
   "source": [
    "The best model so Far has recall: 74% and Precision: 12%\n",
    "\n",
    "\n",
    "Based on the preferences,we can either optimize for the Precision or Recall.\n",
    "\n",
    "If stroke treatment has no harm on the patient then we probally would want to optimize on the recall, so that we can ensure that we identify as many patients as possible who are likely to get stroke.\n",
    "\n",
    "\n",
    "Further optimization can be done by the use of the cutoff and also feature engeneering based on the understanding of the existing features"
   ]
  },
  {
   "cell_type": "markdown",
   "metadata": {},
   "source": [
    "#### Importance Features"
   ]
  },
  {
   "cell_type": "code",
   "execution_count": 29,
   "metadata": {},
   "outputs": [
    {
     "data": {
      "text/html": [
       "<div>\n",
       "<style scoped>\n",
       "    .dataframe tbody tr th:only-of-type {\n",
       "        vertical-align: middle;\n",
       "    }\n",
       "\n",
       "    .dataframe tbody tr th {\n",
       "        vertical-align: top;\n",
       "    }\n",
       "\n",
       "    .dataframe thead th {\n",
       "        text-align: right;\n",
       "    }\n",
       "</style>\n",
       "<table border=\"1\" class=\"dataframe\">\n",
       "  <thead>\n",
       "    <tr style=\"text-align: right;\">\n",
       "      <th></th>\n",
       "      <th>Features</th>\n",
       "      <th>Importance</th>\n",
       "    </tr>\n",
       "  </thead>\n",
       "  <tbody>\n",
       "    <tr>\n",
       "      <th>3</th>\n",
       "      <td>avg_glucose_level</td>\n",
       "      <td>0.280040</td>\n",
       "    </tr>\n",
       "    <tr>\n",
       "      <th>7</th>\n",
       "      <td>age_avg_glucose</td>\n",
       "      <td>0.264855</td>\n",
       "    </tr>\n",
       "    <tr>\n",
       "      <th>0</th>\n",
       "      <td>age</td>\n",
       "      <td>0.178944</td>\n",
       "    </tr>\n",
       "    <tr>\n",
       "      <th>8</th>\n",
       "      <td>glucose_bmi</td>\n",
       "      <td>0.115722</td>\n",
       "    </tr>\n",
       "    <tr>\n",
       "      <th>6</th>\n",
       "      <td>age_bmi</td>\n",
       "      <td>0.075367</td>\n",
       "    </tr>\n",
       "    <tr>\n",
       "      <th>4</th>\n",
       "      <td>bmi</td>\n",
       "      <td>0.064535</td>\n",
       "    </tr>\n",
       "    <tr>\n",
       "      <th>2</th>\n",
       "      <td>heart_disease</td>\n",
       "      <td>0.008500</td>\n",
       "    </tr>\n",
       "    <tr>\n",
       "      <th>9</th>\n",
       "      <td>gender_Male</td>\n",
       "      <td>0.005639</td>\n",
       "    </tr>\n",
       "    <tr>\n",
       "      <th>16</th>\n",
       "      <td>Residence_type_Urban</td>\n",
       "      <td>0.004952</td>\n",
       "    </tr>\n",
       "    <tr>\n",
       "      <th>15</th>\n",
       "      <td>work_type_children</td>\n",
       "      <td>0.001447</td>\n",
       "    </tr>\n",
       "  </tbody>\n",
       "</table>\n",
       "</div>"
      ],
      "text/plain": [
       "                Features  Importance\n",
       "3      avg_glucose_level    0.280040\n",
       "7        age_avg_glucose    0.264855\n",
       "0                    age    0.178944\n",
       "8            glucose_bmi    0.115722\n",
       "6                age_bmi    0.075367\n",
       "4                    bmi    0.064535\n",
       "2          heart_disease    0.008500\n",
       "9            gender_Male    0.005639\n",
       "16  Residence_type_Urban    0.004952\n",
       "15    work_type_children    0.001447"
      ]
     },
     "execution_count": 29,
     "metadata": {},
     "output_type": "execute_result"
    }
   ],
   "source": [
    "feature_importance = pd.DataFrame({'Features': X_train.columns,'Importance':model.feature_importances_})\n",
    "\n",
    "feature_importance.sort_values(by = 'Importance',ascending = False,inplace = True)\n",
    "feature_importance.head(10)"
   ]
  },
  {
   "cell_type": "code",
   "execution_count": 30,
   "metadata": {},
   "outputs": [
    {
     "data": {
      "image/png": "[encoded data removed]",
      "text/plain": [
       "<Figure size 864x648 with 1 Axes>"
      ]
     },
     "metadata": {
      "needs_background": "light"
     },
     "output_type": "display_data"
    }
   ],
   "source": [
    "plt.figure(figsize=(12,9))\n",
    "plt.title(\"Feature Importance\",fontsize = 25)\n",
    "\n",
    "sns.barplot(y='Features',x='Importance',data = feature_importance.head(5),orient=\"h\")\n",
    "plt.show()"
   ]
  },
  {
   "cell_type": "markdown",
   "metadata": {},
   "source": [
    "Glucose Level, age and BMI are the the top 3 important feature predictor of Stroke"
   ]
  },
  {
   "cell_type": "code",
   "execution_count": null,
   "metadata": {},
   "outputs": [],
   "source": []
  }
 ],
 "metadata": {
  "kernelspec": {
   "display_name": "Python 3",
   "language": "python",
   "name": "python3"
  },
  "language_info": {
   "codemirror_mode": {
    "name": "ipython",
    "version": 3
   },
   "file_extension": ".py",
   "mimetype": "text/x-python",
   "name": "python",
   "nbconvert_exporter": "python",
   "pygments_lexer": "ipython3",
   "version": "3.6.9"
  }
 },
 "nbformat": 4,
 "nbformat_minor": 2
}
